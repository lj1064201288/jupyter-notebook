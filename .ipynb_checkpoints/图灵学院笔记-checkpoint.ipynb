{
 "cells": [
  {
   "cell_type": "markdown",
   "metadata": {},
   "source": [
    "# 7. 类的常用魔术方法\n",
    "     --魔术方法就是不需要人为调用的方法，基本是在特定的时刻自动触发\n",
    "     --魔术方法的统一的特征，方法名被前后各两个下滑线包裹\n",
    "     --操作类:\n",
    "        --'__init__': 构造函数\n",
    "        --'__new__': 对象实例化的方法，此函数比较特殊，一般不需要使用\n",
    "        --'__call__': 对象当函数使用的时候触发\n",
    "        --'__str__': 当对象被当字符串使用的时候调用\n",
    "        --'__repr__': 返回字符串\n",
    "     --描述符相关\n",
    "       --'__set__'\n",
    "       --'__get__'\n",
    "       --'__delete__'\n",
    "     --属性操作相关\n",
    "       --'__getattr__': 访问一个不存在的属性时触发\n",
    "       --'__setattr__': 对成员属性进行设置的时候触发\n",
    "        --参数:\n",
    "            -- self用来获取当前对象\n",
    "            -- 被设置的属性名称，以字符串形式出现\n",
    "            -- 需要对属性名称设置的值\n",
    "        -- 作用: 进行属性设置的时候进行验证或者修改\n",
    "        -- 注意: 在该方法中不能对属性直接进行赋值操作，否者死循环\n",
    "     -- 运算分类相关的方法:"
   ]
  },
  {
   "cell_type": "code",
   "execution_count": 5,
   "metadata": {
    "collapsed": true
   },
   "outputs": [],
   "source": [
    "#文档案例\n",
    "#函数stu是一个模拟一个学生的自我介绍\n",
    "def stu(name, age, *args):\n",
    "    '''\n",
    "    这是第一行\n",
    "    这是第二行\n",
    "    这是第三行\n",
    "    '''\n",
    "    print('This is hanshu stu')\n",
    "    "
   ]
  },
  {
   "cell_type": "code",
   "execution_count": 7,
   "metadata": {},
   "outputs": [
    {
     "name": "stdout",
     "output_type": "stream",
     "text": [
      "Help on function stu in module __main__:\n",
      "\n",
      "stu(name, age, *args)\n",
      "    这是第一行\n",
      "    这是第二行\n",
      "    这是第三行\n",
      "\n"
     ]
    },
    {
     "data": {
      "text/plain": [
       "'\\n    这是第一行\\n    这是第二行\\n    这是第三行\\n    '"
      ]
     },
     "execution_count": 7,
     "metadata": {},
     "output_type": "execute_result"
    }
   ],
   "source": [
    "help(stu)\n",
    "stu.__doc__"
   ]
  },
  {
   "cell_type": "code",
   "execution_count": 11,
   "metadata": {},
   "outputs": [
    {
     "name": "stdout",
     "output_type": "stream",
     "text": [
      "100\n",
      "I am in fun\n",
      "99\n",
      "100\n"
     ]
    }
   ],
   "source": [
    "#使用global\n",
    "def fun():\n",
    "    global b1\n",
    "    b1 = 100\n",
    "    print(b1)\n",
    "    print('I am in fun')\n",
    "    # a2的作用范围fun\n",
    "    b2 = 99\n",
    "    print(b2)\n",
    "    \n",
    "fun()\n",
    "print(b1)"
   ]
  },
  {
   "cell_type": "code",
   "execution_count": 13,
   "metadata": {},
   "outputs": [
    {
     "name": "stdout",
     "output_type": "stream",
     "text": [
      "Locals={'e': 111, 'd': 200, 'c': 100}\n",
      "Glovals={'__name__': '__main__', '__doc__': 'Automatically created module for IPython interactive environment', '__package__': None, '__loader__': None, '__spec__': None, '__builtin__': <module 'builtins' (built-in)>, '__builtins__': <module 'builtins' (built-in)>, '_ih': ['', \"# 7. 类的常用魔术方法\\n --魔术方法就是不需要人为调用的方法，基本是在特定的时刻自动触发\\n --魔术方法的统一的特征，方法名被前后各两个下滑线包裹\\n --操作类:\\n    --'__init__': 构造函数\\n    --'__new__': 对象实例化的方法，此函数比较特殊，一般不需要使用\\n    --'__call__': 对象当函数使用的时候触发\\n    --'__str__': 当对象被当字符串使用的时候调用\\n    --'__repr__': 返回字符串\\n --描述符相关\\n   --'__set__'\\n   --'__get__'\\n   --'__delete__'\\n --属性操作相关\\n   --'__getattr__': 访问一个不存在的属性时触发\\n   --'__setattr__': 对成员属性进行设置的时候触发\\n    --参数:\\n        -- self用来获取当前对象\\n        -- 被设置的属性名称，以字符串形式出现\\n        -- 需要对属性名称设置的值\\n    -- 作用: 进行属性设置的时候进行验证或者修改\\n    -- 注意: 在该方法中不能对属性直接进行赋值操作，否者死循环\\n -- 运算分类相关的方法:\\n    --\", \"#文档案例\\n#函数stu是一个模拟一个学生的自我介绍\\ndef stu(name, age, *args):\\n    print('This is hanshu stu')\", \"#文档案例\\n#函数stu是一个模拟一个学生的自我介绍\\ndef stu(name, age, *args):\\n    print('This is hanshu stu')\\n    \", 'help(stu)\\nstu.__doc__', \"#文档案例\\n#函数stu是一个模拟一个学生的自我介绍\\ndef stu(name, age, *args):\\n    '''\\n    这是第一行\\n    这是第二行\\n    这是第三行\\n    '''\\n    print('This is hanshu stu')\\n    \", 'help(stu)\\nstu.__doc__', 'help(stu)\\nstu.__doc__', '#使用global\\ndef fun():', '#使用global\\ndef fun():', \"#使用global\\ndef fun():\\n    global b1\\n    b1 = 100\\n    print(b1)\\n    print('I am in fun')\\n    # a2的作用范围fun\\n    b2 = 99\\n    print(b2)\", \"#使用global\\ndef fun():\\n    global b1\\n    b1 = 100\\n    print(b1)\\n    print('I am in fun')\\n    # a2的作用范围fun\\n    b2 = 99\\n    print(b2)\\n    \\nfun()\\nprint(b1)\", '#globals函数和locals函数\\na = 1\\nb = 2\\n\\ndef fun(c, d):\\n    e = 111\\n    print(\"Locals={0}\".format(locals()))\\n    print(\"Glovals={0}\".format(globals()))\\n\\nfun(100,200)', '#globals函数和locals函数\\na = 1\\nb = 2\\n\\ndef fun(c, d):\\n    e = 111\\n    print(\"Locals={0}\".format(locals()))\\n    print(\"Glovals={0}\".format(globals()))\\n\\nfun(100,200)'], '_oh': {6: '\\n    这是第一行\\n    这是第二行\\n    这是第三行\\n    ', 7: '\\n    这是第一行\\n    这是第二行\\n    这是第三行\\n    '}, '_dh': ['/home/tlxy'], 'In': ['', \"# 7. 类的常用魔术方法\\n --魔术方法就是不需要人为调用的方法，基本是在特定的时刻自动触发\\n --魔术方法的统一的特征，方法名被前后各两个下滑线包裹\\n --操作类:\\n    --'__init__': 构造函数\\n    --'__new__': 对象实例化的方法，此函数比较特殊，一般不需要使用\\n    --'__call__': 对象当函数使用的时候触发\\n    --'__str__': 当对象被当字符串使用的时候调用\\n    --'__repr__': 返回字符串\\n --描述符相关\\n   --'__set__'\\n   --'__get__'\\n   --'__delete__'\\n --属性操作相关\\n   --'__getattr__': 访问一个不存在的属性时触发\\n   --'__setattr__': 对成员属性进行设置的时候触发\\n    --参数:\\n        -- self用来获取当前对象\\n        -- 被设置的属性名称，以字符串形式出现\\n        -- 需要对属性名称设置的值\\n    -- 作用: 进行属性设置的时候进行验证或者修改\\n    -- 注意: 在该方法中不能对属性直接进行赋值操作，否者死循环\\n -- 运算分类相关的方法:\\n    --\", \"#文档案例\\n#函数stu是一个模拟一个学生的自我介绍\\ndef stu(name, age, *args):\\n    print('This is hanshu stu')\", \"#文档案例\\n#函数stu是一个模拟一个学生的自我介绍\\ndef stu(name, age, *args):\\n    print('This is hanshu stu')\\n    \", 'help(stu)\\nstu.__doc__', \"#文档案例\\n#函数stu是一个模拟一个学生的自我介绍\\ndef stu(name, age, *args):\\n    '''\\n    这是第一行\\n    这是第二行\\n    这是第三行\\n    '''\\n    print('This is hanshu stu')\\n    \", 'help(stu)\\nstu.__doc__', 'help(stu)\\nstu.__doc__', '#使用global\\ndef fun():', '#使用global\\ndef fun():', \"#使用global\\ndef fun():\\n    global b1\\n    b1 = 100\\n    print(b1)\\n    print('I am in fun')\\n    # a2的作用范围fun\\n    b2 = 99\\n    print(b2)\", \"#使用global\\ndef fun():\\n    global b1\\n    b1 = 100\\n    print(b1)\\n    print('I am in fun')\\n    # a2的作用范围fun\\n    b2 = 99\\n    print(b2)\\n    \\nfun()\\nprint(b1)\", '#globals函数和locals函数\\na = 1\\nb = 2\\n\\ndef fun(c, d):\\n    e = 111\\n    print(\"Locals={0}\".format(locals()))\\n    print(\"Glovals={0}\".format(globals()))\\n\\nfun(100,200)', '#globals函数和locals函数\\na = 1\\nb = 2\\n\\ndef fun(c, d):\\n    e = 111\\n    print(\"Locals={0}\".format(locals()))\\n    print(\"Glovals={0}\".format(globals()))\\n\\nfun(100,200)'], 'Out': {6: '\\n    这是第一行\\n    这是第二行\\n    这是第三行\\n    ', 7: '\\n    这是第一行\\n    这是第二行\\n    这是第三行\\n    '}, 'get_ipython': <bound method InteractiveShell.get_ipython of <ipykernel.zmqshell.ZMQInteractiveShell object at 0x7fc6524ebc88>>, 'exit': <IPython.core.autocall.ZMQExitAutocall object at 0x7fc6524c3198>, 'quit': <IPython.core.autocall.ZMQExitAutocall object at 0x7fc6524c3198>, '_': '\\n    这是第一行\\n    这是第二行\\n    这是第三行\\n    ', '__': '\\n    这是第一行\\n    这是第二行\\n    这是第三行\\n    ', '___': '', '_i': '#globals函数和locals函数\\na = 1\\nb = 2\\n\\ndef fun(c, d):\\n    e = 111\\n    print(\"Locals={0}\".format(locals()))\\n    print(\"Glovals={0}\".format(globals()))\\n\\nfun(100,200)', '_ii': \"#使用global\\ndef fun():\\n    global b1\\n    b1 = 100\\n    print(b1)\\n    print('I am in fun')\\n    # a2的作用范围fun\\n    b2 = 99\\n    print(b2)\\n    \\nfun()\\nprint(b1)\", '_iii': \"#使用global\\ndef fun():\\n    global b1\\n    b1 = 100\\n    print(b1)\\n    print('I am in fun')\\n    # a2的作用范围fun\\n    b2 = 99\\n    print(b2)\", '_i1': \"# 7. 类的常用魔术方法\\n --魔术方法就是不需要人为调用的方法，基本是在特定的时刻自动触发\\n --魔术方法的统一的特征，方法名被前后各两个下滑线包裹\\n --操作类:\\n    --'__init__': 构造函数\\n    --'__new__': 对象实例化的方法，此函数比较特殊，一般不需要使用\\n    --'__call__': 对象当函数使用的时候触发\\n    --'__str__': 当对象被当字符串使用的时候调用\\n    --'__repr__': 返回字符串\\n --描述符相关\\n   --'__set__'\\n   --'__get__'\\n   --'__delete__'\\n --属性操作相关\\n   --'__getattr__': 访问一个不存在的属性时触发\\n   --'__setattr__': 对成员属性进行设置的时候触发\\n    --参数:\\n        -- self用来获取当前对象\\n        -- 被设置的属性名称，以字符串形式出现\\n        -- 需要对属性名称设置的值\\n    -- 作用: 进行属性设置的时候进行验证或者修改\\n    -- 注意: 在该方法中不能对属性直接进行赋值操作，否者死循环\\n -- 运算分类相关的方法:\\n    --\", '_i2': \"#文档案例\\n#函数stu是一个模拟一个学生的自我介绍\\ndef stu(name, age, *args):\\n    print('This is hanshu stu')\", 'stu': <function stu at 0x7fc6503afea0>, '_i3': \"#文档案例\\n#函数stu是一个模拟一个学生的自我介绍\\ndef stu(name, age, *args):\\n    print('This is hanshu stu')\\n    \", '_i4': 'help(stu)\\nstu.__doc__', '_i5': \"#文档案例\\n#函数stu是一个模拟一个学生的自我介绍\\ndef stu(name, age, *args):\\n    '''\\n    这是第一行\\n    这是第二行\\n    这是第三行\\n    '''\\n    print('This is hanshu stu')\\n    \", '_i6': 'help(stu)\\nstu.__doc__', '_6': '\\n    这是第一行\\n    这是第二行\\n    这是第三行\\n    ', '_i7': 'help(stu)\\nstu.__doc__', '_7': '\\n    这是第一行\\n    这是第二行\\n    这是第三行\\n    ', '_i8': '#使用global\\ndef fun():', '_i9': '#使用global\\ndef fun():', '_i10': \"#使用global\\ndef fun():\\n    global b1\\n    b1 = 100\\n    print(b1)\\n    print('I am in fun')\\n    # a2的作用范围fun\\n    b2 = 99\\n    print(b2)\", 'fun': <function fun at 0x7fc6503af2f0>, '_i11': \"#使用global\\ndef fun():\\n    global b1\\n    b1 = 100\\n    print(b1)\\n    print('I am in fun')\\n    # a2的作用范围fun\\n    b2 = 99\\n    print(b2)\\n    \\nfun()\\nprint(b1)\", 'b1': 100, '_i12': '#globals函数和locals函数\\na = 1\\nb = 2\\n\\ndef fun(c, d):\\n    e = 111\\n    print(\"Locals={0}\".format(locals()))\\n    print(\"Glovals={0}\".format(globals()))\\n\\nfun(100,200)', 'a': 1, 'b': 2, '_i13': '#globals函数和locals函数\\na = 1\\nb = 2\\n\\ndef fun(c, d):\\n    e = 111\\n    print(\"Locals={0}\".format(locals()))\\n    print(\"Glovals={0}\".format(globals()))\\n\\nfun(100,200)'}\n"
     ]
    }
   ],
   "source": [
    "#globals函数和locals函数\n",
    "a = 1\n",
    "b = 2\n",
    "\n",
    "def fun(c, d):\n",
    "    e = 111\n",
    "    print(\"Locals={0}\".format(locals()))\n",
    "    print(\"Globals={0}\".format(globals()))\n",
    "\n",
    "fun(100,200)"
   ]
  },
  {
   "cell_type": "markdown",
   "metadata": {},
   "source": [
    "#eval函数\n",
    "# 把一个字符串当成一个表达式来执行，返回表达是执行后的结果\n",
    "# 语法\n",
    "                eval(string_code, globals=None, locals=None)\n",
    "# exec()函数\n",
    "# 跟eval功能类似，但是，不返回结果\n",
    "# 语法\n",
    "                exec(string_code, globals=None, locals=None)"
   ]
  },
  {
   "cell_type": "code",
   "execution_count": 15,
   "metadata": {},
   "outputs": [
    {
     "name": "stdout",
     "output_type": "stream",
     "text": [
      "300\n",
      "300\n"
     ]
    }
   ],
   "source": [
    "#案例\n",
    "x = 100\n",
    "y = 200\n",
    "# 执行x+y\n",
    "# z = x+y\n",
    "\n",
    "z1 = x+y\n",
    "z2 = eval(\"x+y\")\n",
    "\n",
    "print(z1)\n",
    "print(z2)"
   ]
  },
  {
   "cell_type": "code",
   "execution_count": 17,
   "metadata": {},
   "outputs": [
    {
     "name": "stdout",
     "output_type": "stream",
     "text": [
      "x+y: 300\n",
      "300\n",
      "None\n"
     ]
    }
   ],
   "source": [
    "# exec案例\n",
    "x = 100\n",
    "y = 200\n",
    "# 执行x+y\n",
    "# z = x + y\n",
    "z1 = x + y\n",
    "# 1，注意字符串中引号的写法\n",
    "# 2，比对exec执行结果和代码执行结果\n",
    "z2 = exec(\"print('x+y:', x+y)\")\n",
    "\n",
    "print(z1)\n",
    "print(z2)"
   ]
  },
  {
   "cell_type": "markdown",
   "metadata": {},
   "source": [
    "# 递归函数\n",
    "    .函数直接或者间接调用自己\n",
    "    .优点：简洁，理解容易\n",
    "    .缺点：对递归深度有限制，消耗资源da\n",
    "    .Python对递归深度有限制，超过限制报错\n",
    "    .在写递归程序的时候，一定注意结束条件\n",
    "    "
   ]
  },
  {
   "cell_type": "code",
   "execution_count": 1,
   "metadata": {},
   "outputs": [
    {
     "name": "stdout",
     "output_type": "stream",
     "text": [
      "2\n",
      "55\n"
     ]
    }
   ],
   "source": [
    "# 斐波拉契函数数列\n",
    "def fib(n):\n",
    "    if n == 1:\n",
    "        return 1\n",
    "    if n == 2:\n",
    "        return 1\n",
    "    return fib(n-1) + fib(n-2)\n",
    "print(fib(3))\n",
    "print(fib(10))\n"
   ]
  },
  {
   "cell_type": "markdown",
   "metadata": {},
   "source": [
    "# 异常\n",
    "    -广义上的错误分为错误和异常\n",
    "    -错误是指是可以人为避免\n",
    "    -异常是指在语法逻辑正确前提下。出现的问题\n",
    "    -在Python里，异常是一个类，可以处理和使用\n",
    "    "
   ]
  },
  {
   "cell_type": "markdown",
   "metadata": {},
   "source": [
    "# 异常的分类\n",
    "    AssertError 断言语句（assert）失败\n",
    "    AttributeError 尝试访问未知的对象属性\n",
    "    EOFError 用户输入文件末尾标志EOF（Ctrl+d）\n",
    "    FloatingPointError 浮点计算错误\n",
    "    GeneraorExit generator.close()方法被调用的时候\n",
    "    ImportError 导入模块失败的时候\n",
    "    IndexError 索引超出序列的范围\n",
    "    KeyError 字典中查找一个不存在的关键字\n",
    "    KeyboardInterrupt 用户输入中断键（Ctrl+c）\n",
    "    MenoryError 内存溢出（可以通过删除对象释放内存）\n",
    "    NameError 尝试访问一个不存在的变量\n",
    "    NotImplementedError 尚未实现的方法\n",
    "    OSError 操作系统产生等等异常（例如打开一个不存在的文件）\n",
    "    OverflowError 数值运算超出最大限制\n",
    "    ReferenceError 弱引用（weak reference）试图访问益和已经被垃圾回收机制回收了的对象\n",
    "    RuntimeError 一般的运行时错误\n",
    "    StopIteration 迭代器没有更多的值\n",
    "    SyntaxError Python的语法错误\n",
    "    IndentationError 缩进错误\n",
    "    TabError Tab和空格混合使用\n",
    "    SystemError Python编译器系统错误\n",
    "    SyntaxError Python编译器进程被关闭\n",
    "    TypeError 不同类型间的无效操作\n",
    "    UNboundLocalError 访问一个未初始化的本地变量（NameError的子类）\n",
    "    UnicodeError Unicode相关的错误（ValueError的子类）\n",
    "    UnicodeEncodeError Unicode编码是的错误(UnicodeError的子类)\n",
    "    UnicodeDecodeError Unicode解码时的错误(UnicodeError的子类)\n",
    "    UnicodeTranslateError Unicode转换时的错误（UnicodeError的子类）\n",
    "    ValueError 传入无效的参数\n",
    "    ZeroDivisionError 除数为零"
   ]
  },
  {
   "cell_type": "markdown",
   "metadata": {},
   "source": [
    "# 异常处理\n",
    "    - 不能保证程序永远正确运行\n",
    "    - 但是，必须保证程序在最坏的情况下得到问题被妥善处理\n",
    "    - Python的异常处理模块全部语法为:\n",
    "            \n",
    "            try:\n",
    "                尝试实现某个操作，\n",
    "                如果没有出现异常，任务就可以完成\n",
    "                如果出现异常，将异常从当前代码块扔出去尝试解决异常\n",
    "                \n",
    "            except 异常类型1:\n",
    "                解决方案1: 用于尝试在此处处理异常解决问题\n",
    "            except 异常类型2:\n",
    "                解决方案2: 用于尝试在此处处理异常解决问题\n",
    "            except （异常类型1，异常类型2...）\n",
    "                解决方案: 针对多个异常使用相同的处理方式\n",
    "            except:\n",
    "                解决方案: 所有异常的解决方案\n",
    "            else:\n",
    "                如果没有出现任何异常，将会执行此处代码\n",
    "            finally：\n",
    "                管你有没有异常都要执行的代码\n",
    "    . 流程\n",
    "        1.执行try下面的语句\n",
    "        2.如果出现异常，则在except语句里查找对应的异常并进行处理\n",
    "        3.如果没有出现异常，则执行else语句的内容\n",
    "        4.最后，不管是否出现异常，都要执行finally语句\n",
    "    . 出except（最少一个）外，else和finally可选"
   ]
  },
  {
   "cell_type": "code",
   "execution_count": null,
   "metadata": {
    "collapsed": true
   },
   "outputs": [],
   "source": [
    "def fun(name, age, *args, school=\"四川大学\", **kwargs)"
   ]
  }
 ],
 "metadata": {
  "kernelspec": {
   "display_name": "Python 3",
   "language": "python",
   "name": "python3"
  },
  "language_info": {
   "codemirror_mode": {
    "name": "ipython",
    "version": 3
   },
   "file_extension": ".py",
   "mimetype": "text/x-python",
   "name": "python",
   "nbconvert_exporter": "python",
   "pygments_lexer": "ipython3",
   "version": "3.6.3"
  }
 },
 "nbformat": 4,
 "nbformat_minor": 2
}

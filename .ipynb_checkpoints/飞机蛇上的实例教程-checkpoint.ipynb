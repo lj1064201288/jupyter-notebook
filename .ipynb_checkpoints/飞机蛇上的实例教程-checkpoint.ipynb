{
 "cells": [
  {
   "cell_type": "markdown",
   "metadata": {},
   "source": [
    "# 7.1函数input的工作原理"
   ]
  },
  {
   "cell_type": "code",
   "execution_count": 1,
   "metadata": {},
   "outputs": [
    {
     "ename": "NameError",
     "evalue": "name 'asd' is not defined",
     "output_type": "error",
     "traceback": [
      "\u001b[0;31m---------------------------------------------------------------------------\u001b[0m",
      "\u001b[0;31mNameError\u001b[0m                                 Traceback (most recent call last)",
      "\u001b[0;32m<ipython-input-1-7b516c560756>\u001b[0m in \u001b[0;36m<module>\u001b[0;34m()\u001b[0m\n\u001b[0;32m----> 1\u001b[0;31m \u001b[0ma\u001b[0m \u001b[0;34m=\u001b[0m \u001b[0;34m[\u001b[0m\u001b[0masd\u001b[0m\u001b[0;34m,\u001b[0m \u001b[0mer\u001b[0m\u001b[0;34m,\u001b[0m \u001b[0mewer\u001b[0m\u001b[0;34m,\u001b[0m \u001b[0mr\u001b[0m\u001b[0;34m,\u001b[0m \u001b[0mt\u001b[0m\u001b[0;34m,\u001b[0m \u001b[0mqw\u001b[0m\u001b[0;34m]\u001b[0m\u001b[0;34m\u001b[0m\u001b[0m\n\u001b[0m\u001b[1;32m      2\u001b[0m \u001b[0;34m\u001b[0m\u001b[0m\n\u001b[1;32m      3\u001b[0m \u001b[0ma\u001b[0m\u001b[0;34m.\u001b[0m\u001b[0msorted\u001b[0m\u001b[0;34m(\u001b[0m\u001b[0mreverse\u001b[0m\u001b[0;34m=\u001b[0m\u001b[0;34m'True'\u001b[0m\u001b[0;34m)\u001b[0m\u001b[0;34m\u001b[0m\u001b[0m\n",
      "\u001b[0;31mNameError\u001b[0m: name 'asd' is not defined"
     ]
    }
   ],
   "source": [
    "a = [asd, er, ewer, r, t, qw]\n",
    "\n",
    "a.sorted(reverse='True')"
   ]
  },
  {
   "cell_type": "code",
   "execution_count": null,
   "metadata": {},
   "outputs": [
    {
     "name": "stdout",
     "output_type": "stream",
     "text": [
      "Tell me something, and Iwill repeat it back to you :hello\n",
      "hello\n"
     ]
    }
   ],
   "source": [
    "# input \n",
    "message = input(\"Tell me something, and Iwill repeat it back to you :\")\n",
    "print(message)"
   ]
  },
  {
   "cell_type": "code",
   "execution_count": 1,
   "metadata": {},
   "outputs": [
    {
     "name": "stdout",
     "output_type": "stream",
     "text": [
      "Please enter your name:流进\n",
      "Hello, 流进!\n",
      "流进\n"
     ]
    }
   ],
   "source": [
    "# 编写清晰的程序\n",
    "name = input(\"Please enter your name:\")\n",
    "print(\"Hello, \" + name + \"!\")\n",
    "print(name)"
   ]
  },
  {
   "cell_type": "code",
   "execution_count": 5,
   "metadata": {},
   "outputs": [
    {
     "name": "stdout",
     "output_type": "stream",
     "text": [
      "If you tell us sho you are, we can persionalizethe messages you see.\n",
      " What is your first name?liujun\n",
      "\n",
      " Hello, liujun!\n"
     ]
    }
   ],
   "source": [
    "# greeter.py\n",
    "prompt = \"If you tell us sho you are, we can persionalizethe messages you see.\"\n",
    "prompt += \"\\n What is your first name?\"\n",
    "\n",
    "name = input(prompt)\n",
    "print(\"\\n Hello, \" + name + '!')\n"
   ]
  },
  {
   "cell_type": "code",
   "execution_count": 11,
   "metadata": {},
   "outputs": [
    {
     "name": "stdout",
     "output_type": "stream",
     "text": [
      "How old are you ?22\n"
     ]
    },
    {
     "data": {
      "text/plain": [
       "22"
      ]
     },
     "execution_count": 11,
     "metadata": {},
     "output_type": "execute_result"
    }
   ],
   "source": [
    "# 使用int()来获取值的输入\n",
    "age = input(\"How old are you ?\")\n",
    "age = int(age)\n",
    "age\n"
   ]
  },
  {
   "cell_type": "code",
   "execution_count": 15,
   "metadata": {},
   "outputs": [
    {
     "data": {
      "text/plain": [
       "1"
      ]
     },
     "execution_count": 15,
     "metadata": {},
     "output_type": "execute_result"
    }
   ],
   "source": [
    "# 求模运算符\n",
    "4 % 3\n",
    "5 % 3\n",
    "6 % 3\n",
    "7 % 3"
   ]
  },
  {
   "cell_type": "code",
   "execution_count": 20,
   "metadata": {},
   "outputs": [
    {
     "name": "stdout",
     "output_type": "stream",
     "text": [
      "Enter a number, and I'll tell you if it's even or odd:22\n",
      "\n",
      "The number 22 is even.\n"
     ]
    }
   ],
   "source": [
    "number = input(\"Enter a number, and I'll tell you if it's even or odd:\")\n",
    "number = int(number)\n",
    "\n",
    "if number % 2 == 0:\n",
    "    print(\"\\nThe number \" + str(number) + \" is even.\")\n",
    "else:\n",
    "    print(\"\\nThe number \" + str(number) + \" is odd.\")"
   ]
  },
  {
   "cell_type": "markdown",
   "metadata": {},
   "source": [
    "# while 循环简介\n",
    "  ---for循环用于针对集合的每个元素的一个代码块，而while循环不断的运行，直到指定的条件不满足为止."
   ]
  },
  {
   "cell_type": "code",
   "execution_count": 26,
   "metadata": {},
   "outputs": [
    {
     "name": "stdout",
     "output_type": "stream",
     "text": [
      "1\n",
      "2\n",
      "3\n",
      "4\n",
      "5\n",
      "\n",
      "Tell me something, and I will repeat it back to you:\n",
      "Enter 'quit' to end the program.quit\n"
     ]
    }
   ],
   "source": [
    "# 使用while\n",
    "current_number = 1\n",
    "while current_number <= 5:\n",
    "    print(current_number)\n",
    "    current_number += 1\n",
    "# 让用户选择何时退出\n",
    "prompt = \"\\nTell me something, and I will repeat it back to you:\"\n",
    "prompt += \"\\nEnter 'quit' to end the program.\"\n",
    "message = \"\"\n",
    "while message != 'quit':\n",
    "    message = input(prompt)\n",
    "    \n",
    "    if message != 'quit':\n",
    "        print(message)"
   ]
  },
  {
   "cell_type": "code",
   "execution_count": null,
   "metadata": {
    "collapsed": true
   },
   "outputs": [],
   "source": [
    "# 使用标志\n",
    "prompt = \"\\nTell me something, and I will repeat it back to you:\"\n",
    "prompt += \"\\nEnter 'quit' to end the program.\"\n",
    "active = True\n",
    "while active:\n",
    "    message = input(prompt)\n",
    "    \n",
    "    if message == 'quit':\n",
    "        active = False\n",
    "    else:\n",
    "        print(message)"
   ]
  },
  {
   "cell_type": "code",
   "execution_count": null,
   "metadata": {
    "collapsed": true
   },
   "outputs": [],
   "source": [
    "# 使用break退出循环\n",
    "prompt = \"\\nTell me something, and I will repeat it back to you:\"\n",
    "prompt += \"\\nEnter 'quit' to end the program.\"\n",
    "active = True\n",
    "while active:\n",
    "    city = input(prompt)\n",
    "    \n",
    "    if city == 'quit':\n",
    "        break\n",
    "    else:\n",
    "        print(\"I'd love to go to \" + city.title() + '!')"
   ]
  },
  {
   "cell_type": "code",
   "execution_count": null,
   "metadata": {
    "collapsed": true
   },
   "outputs": [],
   "source": [
    "# 在循环中使用continue\n",
    "current_number = 0\n",
    "while current_number < 10:\n",
    "    current_number += 1\n",
    "    if current_number % 2 == 0:\n",
    "        continue\n",
    "    print(current_number)"
   ]
  },
  {
   "cell_type": "code",
   "execution_count": 5,
   "metadata": {},
   "outputs": [
    {
     "ename": "IndexError",
     "evalue": "pop from empty list",
     "output_type": "error",
     "traceback": [
      "\u001b[0;31m---------------------------------------------------------------------------\u001b[0m",
      "\u001b[0;31mIndexError\u001b[0m                                Traceback (most recent call last)",
      "\u001b[0;32m<ipython-input-5-b4cafcd0784e>\u001b[0m in \u001b[0;36m<module>\u001b[0;34m()\u001b[0m\n\u001b[1;32m      9\u001b[0m \u001b[0;32mwhile\u001b[0m \u001b[0munconfirend_users\u001b[0m\u001b[0;34m:\u001b[0m\u001b[0;34m\u001b[0m\u001b[0m\n\u001b[1;32m     10\u001b[0m \u001b[0;34m\u001b[0m\u001b[0m\n\u001b[0;32m---> 11\u001b[0;31m     \u001b[0mcurrent_user\u001b[0m \u001b[0;34m=\u001b[0m \u001b[0munconfriend_users\u001b[0m\u001b[0;34m.\u001b[0m\u001b[0mpop\u001b[0m\u001b[0;34m(\u001b[0m\u001b[0;34m)\u001b[0m\u001b[0;34m\u001b[0m\u001b[0m\n\u001b[0m\u001b[1;32m     12\u001b[0m \u001b[0;34m\u001b[0m\u001b[0m\n\u001b[1;32m     13\u001b[0m     \u001b[0mprint\u001b[0m\u001b[0;34m(\u001b[0m\u001b[0;34m\"Verifying user: \"\u001b[0m \u001b[0;34m+\u001b[0m \u001b[0mcurrent_user\u001b[0m\u001b[0;34m.\u001b[0m\u001b[0mtitle\u001b[0m\u001b[0;34m(\u001b[0m\u001b[0;34m)\u001b[0m\u001b[0;34m)\u001b[0m\u001b[0;34m\u001b[0m\u001b[0m\n",
      "\u001b[0;31mIndexError\u001b[0m: pop from empty list"
     ]
    }
   ],
   "source": [
    "# 在列表之间移动元素\n",
    "# 首先，创建一个待验证的用户列表\n",
    "# 和一个用于存储已验证用户的空列表\n",
    "unconfirend_users = ['alice', 'brian', 'candace']\n",
    "confirend_users = []\n",
    "# 验证每个用户，直到没有未验证的用户为止\n",
    "# 将每个经过验证的列表都移动到已验证用户列表中\n",
    "\n",
    "while unconfirend_users:\n",
    "\n",
    "    current_user = unconfriend_users.pop()\n",
    "    \n",
    "    print(\"Verifying user: \" + current_user.title())\n",
    "    confirend_users.append(current_user)\n",
    "    \n",
    "# 显示已验证的用户\n",
    "print(\"\\n The following users have been confirmed:\")\n",
    "for confirend_user in confirend_users:\n",
    "    print(confriend_users.title())\n",
    "\n"
   ]
  },
  {
   "cell_type": "code",
   "execution_count": 2,
   "metadata": {},
   "outputs": [
    {
     "name": "stdout",
     "output_type": "stream",
     "text": [
      "['dog', 'cat', 'dog', 'goldfish', 'cat', 'rabbit', 'cat']\n",
      "['dog', 'dog', 'goldfish', 'rabbit']\n",
      "\n",
      "\n",
      "\n",
      "What is your name? Eric\n",
      "Which mountain would you like to climb someday?Denail\n",
      "Would you like to let abother person respond? (yes/mo)no\n",
      "\n",
      " --- Poll Results ---\n",
      "Eric would like to climb Denail.\n"
     ]
    }
   ],
   "source": [
    "# 删除包含特定值的所有元素\n",
    "pets = ['dog', 'cat', 'dog', 'goldfish', 'cat', 'rabbit', 'cat']\n",
    "print(pets)\n",
    "\n",
    "while 'cat' in pets:\n",
    "    pets.remove(\"cat\")\n",
    "print(pets)\n",
    "\n",
    "print('\\n')\n",
    "\n",
    "# 使用用户输入来填充字典\n",
    "responses = {}\n",
    "#  设置一个标志,指出调查是否继续\n",
    "polling_active = True\n",
    "\n",
    "while polling_active:\n",
    "    #提示输入被调查者的名字和回答\n",
    "    name = input(\"\\nWhat is your name? \")\n",
    "    response = input(\"Which mountain would you like to climb someday?\")\n",
    "    \n",
    "    # 将答案卷存储在字典中\n",
    "    responses[name] = response\n",
    "    \n",
    "    #看看是否还有人要参与调查\n",
    "    repeat = input(\"Would you like to let abother person respond? (yes/no)\")\n",
    "    if repeat == 'no':\n",
    "        polling_active = False\n",
    "        \n",
    "# 调查结束，显示结果\n",
    "print(\"\\n --- Poll Results ---\")\n",
    "for name ,response in responses.items():\n",
    "    print(name + ' would like to climb ' + response + '.')"
   ]
  },
  {
   "cell_type": "markdown",
   "metadata": {},
   "source": [
    "# 8.0 函数"
   ]
  },
  {
   "cell_type": "code",
   "execution_count": 1,
   "metadata": {},
   "outputs": [
    {
     "name": "stdout",
     "output_type": "stream",
     "text": [
      "Hello!\n",
      "\n",
      "\n",
      "Hello! Jesse!\n",
      "\n",
      "I have a hamster.\n",
      "My hamster's name is Harry.\n",
      "\n",
      "I have a dog.\n",
      "My dog's name is Willie.\n",
      "My name is  liujun My age is  18\n",
      "None\n",
      "\n",
      "I have a hamster.\n",
      "My hamster'sname is Harry.\n",
      "\n",
      "I have a dog.\n",
      "My dog'sname is Willie.\n",
      "\n",
      "I have a harry.\n",
      "My harry'sname is Hamster.\n",
      "\n",
      "\n",
      "--------------------------------------------------------------------------------\n",
      "\n",
      "\n",
      "\n",
      "I have a harry.\n",
      "My harry'sname is Hamster.\n",
      "\n",
      "I have a hamster.\n",
      "My hamster'sname is Harry.\n",
      "\n",
      "I have a hamster.\n",
      "My hamster'sname is Harry.\n",
      "\n",
      "\n",
      "\n",
      "I have a a.\n",
      "My a'sname is B.\n",
      "\n",
      "\n",
      "--------------------------------------------------------------------------------\n",
      "\n",
      "\n",
      "Jimi Hendrix\n",
      "\n",
      "\n",
      "John Hooker Lee\n",
      "Jimi   Hendrix\n",
      "{'first': 'jimi', 'last': 'hendrix'}\n",
      "\n",
      "\n",
      "{'first': 'jimi', 'last': 'hendrix', 'age': 27}\n",
      "\n",
      "Please tell me your name:\n",
      "(enter 'q' at any time to quit)\n",
      "First_name:刘\n",
      "Last_name俊\n",
      "\n",
      "Hello, 刘 俊!\n",
      "\n",
      "Please tell me your name:\n",
      "(enter 'q' at any time to quit)\n",
      "First_name:q\n"
     ]
    }
   ],
   "source": [
    "# 第一个函数\n",
    "def greet_user():\n",
    "    \"\"\"显示简单的问候语\"\"\"\n",
    "    print(\"Hello!\")\n",
    "    \n",
    "greet_user()\n",
    "print(\"\\n\")\n",
    "# 向函数传递信息\n",
    "def greet_user(username):\n",
    "    \"\"\"显示简单的问候语\"\"\"\n",
    "    print(\"Hello! \" + username.title() + \"!\")\n",
    "    \n",
    "greet_user(\"jesse\")\n",
    "\n",
    "\n",
    "# 传递实参\n",
    "\n",
    "def describe_pet(animal_type, pet_name):\n",
    "    \"\"\"显示宠物的信息\"\"\"\n",
    "    print(\"\\nI have a \" + animal_type + \".\")\n",
    "    print(\"My \" + animal_type + \"'s name is \" + pet_name.title() + \".\")\n",
    "    \n",
    "describe_pet(\"hamster\", \"harry\")\n",
    "\n",
    "describe_pet(\"dog\", \"willie\")\n",
    "\n",
    "def fun():\n",
    "    name = 'liujun'\n",
    "    age = 18\n",
    "    \n",
    "    print(\"My name is \",name, \"My age is \",age)\n",
    "\n",
    "xx = fun()\n",
    "\n",
    "print(xx)\n",
    "\n",
    "# 点用函数多次\n",
    "def describe_pet(animal_type, pet_name):\n",
    "    print(\"\\nI have a \" + animal_type + '.')\n",
    "    print(\"My \" + animal_type + \"'sname is \" + pet_name.title() + '.')\n",
    "\n",
    "describe_pet('hamster', 'harry')\n",
    "describe_pet('dog','willie')\n",
    "\n",
    "#位置实参的顺序很重要\n",
    "def describe_pet(animal_type, pet_name):\n",
    "    print(\"\\nI have a \" + animal_type + '.')\n",
    "    print(\"My \" + animal_type + \"'sname is \" + pet_name.title() + '.')\n",
    "describe_pet('harry', 'hamster')\n",
    "print(\"\\n\")\n",
    "print('----'*20)\n",
    "print(\"\\n\")\n",
    "\n",
    "# 等效的函数调用\n",
    "# 鉴于可混合使用位置的实参，关键字实参和默认值，通常由多种等效的函数调用方式\n",
    "#一条名为Harry的仓鼠\n",
    "describe_pet('harry', 'hamster')\n",
    "describe_pet(pet_name = 'harry', animal_type = 'hamster')\n",
    "describe_pet(animal_type='hamster',pet_name='harry')\n",
    "\n",
    "print('\\n')\n",
    "\n",
    "#避免实参的错误\n",
    "def describe_pet(animal_type, pet_name):\n",
    "    print(\"\\nI have a \" + animal_type + '.')\n",
    "    print(\"My \" + animal_type + \"'sname is \" + pet_name.title() + '.')\n",
    "\n",
    "describe_pet('a','b')\n",
    "print('\\n')\n",
    "print('----'*20)\n",
    "print('\\n')\n",
    "\n",
    "# 返回值\n",
    "# 函数并非总是直接显示输出，相反，他可以处理一些数据，并返回一个或一组值。函数返回的值被成为返回值。\n",
    "# 在函数中，可使用return语句将值返回到调用函数的代码行。返回值让你能够将城西的大部分繁重工作移到函数中去完成,从而简化主程序\n",
    "# 1.返回简单值\n",
    "def get_formatted_name(frist_name, last_name):\n",
    "    full_name = frist_name + ' ' + last_name\n",
    "    return full_name.title()\n",
    "musician = get_formatted_name(\"jimi\", 'hendrix')\n",
    "print(musician)\n",
    "\n",
    "print('\\n')\n",
    "# 2.让实参变得可选的\n",
    "def get_formatted_name(frist_name,last_name,middle_name=' '):\n",
    "    if middle_name:\n",
    "        full_name = frist_name + ' ' + middle_name+ ' ' + last_name\n",
    "    else:\n",
    "        full_name = frist_name + ' ' + last_name\n",
    "    return full_name.title()\n",
    "musician = get_formatted_name('john','lee','hooker')\n",
    "print(musician)\n",
    "\n",
    "musician = get_formatted_name('jimi', 'hendrix')\n",
    "print(musician)\n",
    "\n",
    "# 3.返回字典\n",
    "# 函数可以返回任何类型的值，包括列表和字典等较犊砸的数据结构\n",
    "\n",
    "def build_person(first_name, last_name):\n",
    "    #返回一个字典，其中包含有关一个人的信息\n",
    "    person = {'first': first_name, 'last': last_name}\n",
    "    return person\n",
    "\n",
    "musician = build_person('jimi','hendrix')\n",
    "print(musician)\n",
    "\n",
    "print('\\n')\n",
    "def build_person(first_name, last_name,age=' '):\n",
    "    #返回一个字典，其中包含有关一个人的信息\n",
    "    person = {'first': first_name, 'last': last_name}\n",
    "    if age:\n",
    "        person['age'] = age\n",
    "    return person\n",
    "\n",
    "musician = build_person('jimi','hendrix', age=27)\n",
    "print(musician)\n",
    "\n",
    "# 4.结合使用函数和while循环\n",
    "def get_formatted_name(frist_name, last_name):\n",
    "    full_name = frist_name + ' ' + last_name\n",
    "    return full_name.title()\n",
    "# 这是一个无限的循环\n",
    "while True:\n",
    "    print('\\nPlease tell me your name:')\n",
    "    print(\"(enter 'q' at any time to quit)\")\n",
    "    f_name = input(\"First_name:\")\n",
    "    if f_name == 'q':\n",
    "        break\n",
    "    l_name = input(\"Last_name\")\n",
    "    if l_name == 'q':\n",
    "        break\n",
    "    \n",
    "    formatted_name = get_formatted_name(f_name, l_name)\n",
    "    print(\"\\nHello, \" + formatted_name + '!')\n",
    "    \n",
    "    "
   ]
  },
  {
   "cell_type": "code",
   "execution_count": 17,
   "metadata": {},
   "outputs": [
    {
     "name": "stdout",
     "output_type": "stream",
     "text": [
      "Hello, Hannah!\n",
      "Hello, Ty!\n",
      "Hello, Margot!\n",
      "\n",
      "\n",
      "Printint model:dodecahedron\n",
      "Printint model:robot pendant\n",
      "Printint model:iphone case\n",
      "\n",
      "The following models have been printed:\n",
      "dodecahedron\n",
      "robot pendant\n",
      "iphone case\n",
      "\n",
      "\n",
      "Printing model: dodecahedron\n",
      "Printing model: robot pendant\n",
      "Printing model: iphone case\n",
      "\n",
      "The following models have been printed:\n",
      "dodecahedron\n",
      "robot pendant\n",
      "iphone case\n",
      "[]\n"
     ]
    }
   ],
   "source": [
    "# 传递列表\n",
    "# 将列表传递给函数后，函数就能直接访问其内容\n",
    "def greet_users(names):\n",
    "    for name in names:\n",
    "        msg = \"Hello, \" + name.title() + '!'\n",
    "        print(msg)\n",
    "usernames = ['hannah','ty','margot']\n",
    "greet_users(usernames)\n",
    "\n",
    "# 在函数中修改列表\n",
    "# 将列表传递给函数收，函数就可对其进行修改。在函数中对这个列表所做的任何修改都是永久性的，这让你能够高效的处理大量的数据\n",
    "\n",
    "# 首先创建一个列表，其中包含一些要打印的设计\n",
    "unprinted_designs = ['iphone case','robot pendant','dodecahedron']\n",
    "completed_models = []\n",
    "\n",
    "print(\"\\n\")\n",
    "\n",
    "# 模拟打印每个设计，直到没有未打印的设计为止\n",
    "# 打印每个设计后，都将其移到列表completed_models中\n",
    "while unprinted_designs:\n",
    "    current_design = unprinted_designs.pop()\n",
    "    \n",
    "    #模拟根据设计制作3D打印模型的过程\n",
    "    print('Printint model:' + current_design)\n",
    "    completed_models.append(current_design)\n",
    "    \n",
    "# 显示打印好的所有模型\n",
    "print(\"\\nThe following models have been printed:\")\n",
    "for completed_model in completed_models:\n",
    "    print(completed_model)\n",
    "    \n",
    "print('\\n')\n",
    "# 以函数的方式实现\n",
    "def print_models(ubprinted_designs, completed_models):\n",
    "    \n",
    "    while unprinted_designs:\n",
    "        current_design = unprinted_designs.pop()\n",
    "        \n",
    "        print(\"Printing model: \" + current_design)\n",
    "        completed_models.append(current_design)\n",
    "def show_completed_models(completed_models):\n",
    "    print(\"\\nThe following models have been printed:\")\n",
    "    for completed_models in completed_models:\n",
    "        print(completed_models)\n",
    "\n",
    "unprinted_designs = ['iphone case','robot pendant', 'dodecahedron']\n",
    "completed_models = []\n",
    "\n",
    "print_models(unprinted_designs[:], completed_models)\n",
    "show_completed_models(completed_models)\n",
    "print(unprinted_designs)"
   ]
  },
  {
   "cell_type": "code",
   "execution_count": 25,
   "metadata": {},
   "outputs": [
    {
     "name": "stdout",
     "output_type": "stream",
     "text": [
      "('pepperoni',)\n",
      "('mushrooms', 'green peppers', 'extra cheese')\n",
      "\n",
      "Makeing a pizza with the follwing toppings:\n",
      "-  pepperoni\n",
      "\n",
      "Makeing a pizza with the follwing toppings:\n",
      "-  mushrooms\n",
      "-  green peppers\n",
      "-  extra cheese\n",
      "\n",
      "\n"
     ]
    }
   ],
   "source": [
    "# 传递任意数量的实参\n",
    "# 有时候，你预先不知道函数需要接受多少个实参，Python允许函数从调用语句中收集任意数量的实参\n",
    "def make_pizza(*toppings):\n",
    "    print(toppings)\n",
    "\n",
    "make_pizza('pepperoni')\n",
    "make_pizza('mushrooms', 'green peppers','extra cheese')\n",
    "# 形参名toppings中的星号让Python创建一个名为toppings的空元组，并将收到的所有值都封存到这个元组中\n",
    "# 函数体内的print语句通过生成输出来证明Python能够处理使用一个值调用函数的情形，也能处理使用三个值来调用函数的情形\n",
    "# 它以类似的方式处理不同的调用。\n",
    "def make_pizza(*toppings):\n",
    "    \n",
    "    print(\"\\nMakeing a pizza with the follwing toppings:\")\n",
    "    for topping in toppings:\n",
    "        print('- ', topping)\n",
    "\n",
    "make_pizza('pepperoni')\n",
    "make_pizza('mushrooms', 'green peppers','extra cheese')\n",
    "\n",
    "\n",
    "print('\\n')"
   ]
  },
  {
   "cell_type": "code",
   "execution_count": 29,
   "metadata": {},
   "outputs": [
    {
     "name": "stdout",
     "output_type": "stream",
     "text": [
      "\n",
      "Making a 16-inch pizza with the following toppings:\n",
      "-pepperoni\n",
      "\n",
      "Making a 12-inch pizza with the following toppings:\n",
      "-mushrooms\n",
      "-green peppers\n",
      "-extra cheese\n",
      "\n",
      "\n",
      "{'frist_name': 'albert', 'last_name': 'einstein', 'location': 'princeton', 'field': 'physics'}\n"
     ]
    }
   ],
   "source": [
    "# 8.5 结合使用的位置实参和任意数量的实参\n",
    "# 如果让函数接受不同的类型的实参，必须在函数定义中将接纳任意数量实参的形参放在量后\n",
    "# Python先匹配位置实参和关键字实参，再将余下的实参都收集到最后一个形参中\n",
    "\n",
    "def make_pizza(size, *toppings):\n",
    "    print(\"\\nMaking a \" + str(size) + \"-inch pizza with the following toppings:\")\n",
    "    \n",
    "    for topping in toppings:\n",
    "        print(\"-\" + topping)\n",
    "        \n",
    "make_pizza(16, 'pepperoni')\n",
    "make_pizza(12, 'mushrooms', 'green peppers', 'extra cheese')\n",
    "\n",
    "print('\\n')\n",
    "\n",
    "# 2.使用任意数量的关键字实参\n",
    "# 有时候，需要接受任意数量的实参，但预先不知道传递给函数的回事什么样的信息\n",
    "\n",
    "def build_profile(first, last, **user_info):\n",
    "    #创建一个字典，其中包含我们知道的有关用户的一切\n",
    "    profile = {}\n",
    "    profile['frist_name'] = first\n",
    "    profile['last_name'] = last\n",
    "    for key, value in user_info.items():\n",
    "        profile[key] = value\n",
    "    return profile\n",
    "\n",
    "user_profile = build_profile('albert', 'einstein', location = 'princeton', field = 'physics')\n",
    "print(user_profile)"
   ]
  },
  {
   "cell_type": "code",
   "execution_count": 3,
   "metadata": {},
   "outputs": [
    {
     "ename": "ModuleNotFoundError",
     "evalue": "No module named 'pizza'",
     "output_type": "error",
     "traceback": [
      "\u001b[0;31m---------------------------------------------------------------------------\u001b[0m",
      "\u001b[0;31mModuleNotFoundError\u001b[0m                       Traceback (most recent call last)",
      "\u001b[0;32m<ipython-input-3-beb9b547a01d>\u001b[0m in \u001b[0;36m<module>\u001b[0;34m()\u001b[0m\n\u001b[1;32m     10\u001b[0m         \u001b[0mprint\u001b[0m\u001b[0;34m(\u001b[0m\u001b[0;34m\"- \"\u001b[0m \u001b[0;34m+\u001b[0m \u001b[0mtopping\u001b[0m\u001b[0;34m)\u001b[0m\u001b[0;34m\u001b[0m\u001b[0m\n\u001b[1;32m     11\u001b[0m \u001b[0;34m\u001b[0m\u001b[0m\n\u001b[0;32m---> 12\u001b[0;31m \u001b[0;32mimport\u001b[0m \u001b[0mpizza\u001b[0m\u001b[0;34m\u001b[0m\u001b[0m\n\u001b[0m\u001b[1;32m     13\u001b[0m \u001b[0;34m\u001b[0m\u001b[0m\n\u001b[1;32m     14\u001b[0m \u001b[0mpizza\u001b[0m\u001b[0;34m.\u001b[0m\u001b[0mmake_pizza\u001b[0m\u001b[0;34m(\u001b[0m\u001b[0;36m16\u001b[0m\u001b[0;34m,\u001b[0m\u001b[0;34m'pepperoni'\u001b[0m\u001b[0;34m)\u001b[0m\u001b[0;34m\u001b[0m\u001b[0m\n",
      "\u001b[0;31mModuleNotFoundError\u001b[0m: No module named 'pizza'"
     ]
    }
   ],
   "source": [
    "# 将函数存储在模块中\n",
    "# 函数的优点之一就是：使用它们可将代码与主程序分离。\n",
    "# 通过给函数指定描述性名称，可让主程序容易理解得多\n",
    "\n",
    "# 1.导入整个模块\n",
    "def make_pizza(size, *toppings):\n",
    "    print(\"\\nMaking a\" + str(size) + \n",
    "         \"-inch pizza with the following toppings:\")\n",
    "    for topping in toppings:\n",
    "        print(\"- \" + topping)\n",
    "        \n",
    "import pizza\n",
    "\n",
    "pizza.make_pizza(16,'pepperoni')\n",
    "pizza.make_pizza(12,'mushrooms','green peppers','extra cheese')"
   ]
  },
  {
   "cell_type": "markdown",
   "metadata": {},
   "source": [
    "# 9.类"
   ]
  },
  {
   "cell_type": "code",
   "execution_count": 10,
   "metadata": {},
   "outputs": [
    {
     "name": "stdout",
     "output_type": "stream",
     "text": [
      "My dog's name is Willie.\n",
      "My dog is 6 years old.\n",
      "Willie is now sitting.\n",
      "Willie rolled over!\n",
      "\n",
      "\n",
      "My dog's name is Willie.\n",
      "My dog is 6 years old.\n",
      "Willie is now sitting.\n",
      "\n",
      "Your dog's name is Lucy.\n",
      "Your dog is 3years old.\n",
      "Lucy is now sitting.\n"
     ]
    }
   ],
   "source": [
    "# 9.1 创建和使用类\n",
    "# 使用类几乎可以模拟任何东西\n",
    "# 创建dog类\n",
    "class Dog():\n",
    "    # 一次迷你小狗的简单尝试\n",
    "    def __init__(self, name, age):\n",
    "        #初始化属性名字跟年龄\n",
    "        self.name = name\n",
    "        self.age = age\n",
    "        \n",
    "    def sit(self):\n",
    "        #模拟小狗被命令蹲下\n",
    "        print(self.name.title() + \" is now sitting.\")\n",
    "        \n",
    "    def roll_over(self):\n",
    "        #模拟小狗被命令时打滚\n",
    "        print(self.name.title() + \" rolled over!\")\n",
    "# 方法__init__（）\n",
    "# 类中的函数成为方法，__init__是一个特殊的方法，在这个方法的名称中，\n",
    "# 开头和末尾各有两个下划线，这是一种约定，指在避免Python默认方法与普通方法发生名称冲突\n",
    "# 它时一个只想实例本身的引用，让实例能够通过实参向类传递信息\n",
    "\n",
    "# 9.2 根据类创建实例\n",
    "# 可将类视为有关如何创建实例的说明\n",
    "my_dog = Dog('willie', 6)\n",
    "\n",
    "# 访问属性\n",
    "print(\"My dog's name is \" + my_dog.name.title() + \".\")\n",
    "print(\"My dog is\", str(my_dog.age),\"years old.\")\n",
    "\n",
    "# 调用方法\n",
    "my_dog.sit()\n",
    "my_dog.roll_over()\n",
    "\n",
    "print('\\n')\n",
    "# 创建多个实例\n",
    "\n",
    "my_dog = Dog('willie', 6)\n",
    "your_dog = Dog('lucy', 3)\n",
    "\n",
    "print(\"My dog's name is\", my_dog.name.title() + '.')\n",
    "print(\"My dog is\", str(my_dog.age) + \" years old.\")\n",
    "my_dog.sit()\n",
    "\n",
    "print(\"\\nYour dog's name is \" + your_dog.name.title() + '.')\n",
    "print(\"Your dog is \" + str(your_dog.age) + \"years old.\")\n",
    "your_dog.sit()"
   ]
  },
  {
   "cell_type": "code",
   "execution_count": 6,
   "metadata": {},
   "outputs": [
    {
     "name": "stdout",
     "output_type": "stream",
     "text": [
      "2016 audi a4\n",
      "\n",
      "\n",
      "2016 audi a4\n",
      "This car has 0 miles on it.\n",
      "\n",
      "\n",
      "This car has 23 miles on it.\n",
      "\n",
      "\n",
      "2016 audi a4\n",
      "This car has 23 miles on it.\n",
      "\n",
      "\n",
      "2013 suberu outback\n",
      "This car has 23500 miles on it.\n",
      "This car has 23600 miles on it.\n"
     ]
    }
   ],
   "source": [
    "#9.2 Car类\n",
    "class Car():\n",
    "    #一次模拟汽车的简单尝试\n",
    "    def __init__(self, make, model, year):\n",
    "        self.make = make\n",
    "        self.model = model\n",
    "        self.year = year\n",
    "    \n",
    "    def get_descriptive_name(self):\n",
    "        #返回整洁的描述性信息\n",
    "        long_name = str(self.year)+ ' ' + self.make + ' ' + self.model\n",
    "        return long_name\n",
    "my_new_car = Car('audi', 'a4', '2016')\n",
    "print(my_new_car.get_descriptive_name())\n",
    "\n",
    "print('\\n')\n",
    "# 9.2给属性指定默认值\n",
    "class Car():\n",
    "    #一次模拟汽车的简单尝试\n",
    "    def __init__(self, make, model, year):\n",
    "        self.make = make\n",
    "        self.model = model\n",
    "        self.year = year\n",
    "        self.odometer_reading = 0\n",
    "    \n",
    "    def get_descriptive_name(self):\n",
    "        #返回整洁的描述性信息\n",
    "        long_name = str(self.year)+ ' ' + self.make + ' ' + self.model\n",
    "        return long_name\n",
    "\n",
    "    def read_odometer(self):\n",
    "        #打印一条指出汽车里程的消息\n",
    "        print(\"This car has \" + str(self.odometer_reading) + \" miles on it.\")\n",
    "my_new_car = Car('audi', 'a4', '2016')\n",
    "print(my_new_car.get_descriptive_name())\n",
    "my_new_car.read_odometer()\n",
    "\n",
    "print(\"\\n\")\n",
    "# 修改属性的值\n",
    "my_new_car.odometer_reading = 23\n",
    "my_new_car.read_odometer()\n",
    "# 通过方法修改属性的值\n",
    "print(\"\\n\")\n",
    "class Car():\n",
    "    #一次模拟汽车的简单尝试\n",
    "    def __init__(self, make, model, year):\n",
    "        self.make = make\n",
    "        self.model = model\n",
    "        self.year = year\n",
    "        self.odometer_reading = 0\n",
    "    \n",
    "    def get_descriptive_name(self):\n",
    "        #返回整洁的描述性信息\n",
    "        long_name = str(self.year)+ ' ' + self.make + ' ' + self.model\n",
    "        return long_name\n",
    "\n",
    "    def read_odometer(self):\n",
    "        #打印一条指出汽车里程的消息\n",
    "        print(\"This car has \" + str(self.odometer_reading) + \" miles on it.\")\n",
    "        \n",
    "    def update_odometer(self, mileage):\n",
    "        #将里程表读数设置为指定的值\n",
    "        if mileage >= self.odometer_reading:\n",
    "            self.odometer_reading = mileage\n",
    "        else:\n",
    "            print(\"You can't roll back an odometer!\")\n",
    "\n",
    "my_new_car = Car('audi', 'a4', '2016')\n",
    "print(my_new_car.get_descriptive_name())\n",
    "my_new_car.update_odometer(23)\n",
    "my_new_car.read_odometer()\n",
    "\n",
    "print('\\n')\n",
    "\n",
    "# 通过方法对属性的值进行递增\n",
    "class Car():\n",
    "    #一次模拟汽车的简单尝试\n",
    "    def __init__(self, make, model, year):\n",
    "        self.make = make\n",
    "        self.model = model\n",
    "        self.year = year\n",
    "        self.odometer_reading = 0\n",
    "    \n",
    "    def get_descriptive_name(self):\n",
    "        #返回整洁的描述性信息\n",
    "        long_name = str(self.year)+ ' ' + self.make + ' ' + self.model\n",
    "        return long_name\n",
    "\n",
    "    def read_odometer(self):\n",
    "        #打印一条指出汽车里程的消息\n",
    "        print(\"This car has \" + str(self.odometer_reading) + \" miles on it.\")\n",
    "        \n",
    "    def update_odometer(self, mileage):\n",
    "        #将里程表读数设置为指定的值\n",
    "        if mileage >= self.odometer_reading:\n",
    "            self.odometer_reading = mileage\n",
    "        else:\n",
    "            print(\"You can't roll back an odometer!\")\n",
    "    \n",
    "    def increment_odometer(self, miles):\n",
    "        #将里程表读书增加指定的量\n",
    "        self.odometer_reading += miles\n",
    "        \n",
    "my_used_car = Car('suberu', 'outback', 2013)\n",
    "print(my_used_car.get_descriptive_name())\n",
    "\n",
    "my_used_car.update_odometer(23500)\n",
    "my_used_car.read_odometer()\n",
    "\n",
    "my_used_car.increment_odometer(100)\n",
    "my_used_car.read_odometer()\n",
    "\n"
   ]
  },
  {
   "cell_type": "markdown",
   "metadata": {},
   "source": [
    "# 9.3 继承"
   ]
  },
  {
   "cell_type": "code",
   "execution_count": 9,
   "metadata": {},
   "outputs": [
    {
     "name": "stdout",
     "output_type": "stream",
     "text": [
      "2016 tesla model s\n"
     ]
    }
   ],
   "source": [
    "# 编写类的时候，并非总是从空白开始。如果你要编写的类是另一个现成的特殊版本，可使用继承\n",
    "# 一个类继承另一个类是，它将自动获得另一个类的所有属性和方法，原有的类称为父类，而新类称为子类\n",
    "# 子类继承其父类的所有属性和方法，同时还可以定义自己的属性和方法\n",
    "# 9.3.1 子类的方法__init__()\n",
    "class Car():\n",
    "    #一次模拟汽车的简单尝试\n",
    "    def __init__(self, make, model, year):\n",
    "        self.make = make\n",
    "        self.model = model\n",
    "        self.year = year\n",
    "        self.odometer_reading = 0\n",
    "    \n",
    "    def get_descriptive_name(self):\n",
    "        #返回整洁的描述性信息\n",
    "        long_name = str(self.year)+ ' ' + self.make + ' ' + self.model\n",
    "        return long_name\n",
    "\n",
    "    def read_odometer(self):\n",
    "        #打印一条指出汽车里程的消息\n",
    "        print(\"This car has \" + str(self.odometer_reading) + \" miles on it.\")\n",
    "        \n",
    "    def update_odometer(self, mileage):\n",
    "        #将里程表读数设置为指定的值\n",
    "        if mileage >= self.odometer_reading:\n",
    "            self.odometer_reading = mileage\n",
    "        else:\n",
    "            print(\"You can't roll back an odometer!\")\n",
    "    \n",
    "    def increment_odometer(self, miles):\n",
    "        #将里程表读书增加指定的量\n",
    "        self.odometer_reading += miles\n",
    "        \n",
    "class ElectricCar(Car):\n",
    "    #电动车的独特之处\n",
    "    \n",
    "    def __init__(self, make, model, year):\n",
    "        #初始化父类的属性\n",
    "        super().__init__(make,model, year)\n",
    "my_tesla = ElectricCar('tesla','model s', 2016)\n",
    "print(my_tesla.get_descriptive_name())\n"
   ]
  },
  {
   "cell_type": "code",
   "execution_count": 13,
   "metadata": {},
   "outputs": [
    {
     "name": "stdout",
     "output_type": "stream",
     "text": [
      "2016 tesla model s\n",
      "This car has a 70-kWh battery\n"
     ]
    }
   ],
   "source": [
    "# 9.3.3 给子类定义属性和方法\n",
    "# 让一个类继承另一个类后，可添加区分子类和父类所需的新属性和方法\n",
    "\n",
    "class Car():\n",
    "    #一次模拟汽车的简单尝试\n",
    "    def __init__(self, make, model, year):\n",
    "        self.make = make\n",
    "        self.model = model\n",
    "        self.year = year\n",
    "        self.odometer_reading = 0\n",
    "    \n",
    "    def get_descriptive_name(self):\n",
    "        #返回整洁的描述性信息\n",
    "        long_name = str(self.year)+ ' ' + self.make + ' ' + self.model\n",
    "        return long_name\n",
    "\n",
    "    def read_odometer(self):\n",
    "        #打印一条指出汽车里程的消息\n",
    "        print(\"This car has \" + str(self.odometer_reading) + \" miles on it.\")\n",
    "        \n",
    "    def update_odometer(self, mileage):\n",
    "        #将里程表读数设置为指定的值\n",
    "        if mileage >= self.odometer_reading:\n",
    "            self.odometer_reading = mileage\n",
    "        else:\n",
    "            print(\"You can't roll back an odometer!\")\n",
    "    \n",
    "    def increment_odometer(self, miles):\n",
    "        #将里程表读书增加指定的量\n",
    "        self.odometer_reading += miles\n",
    "        \n",
    "class ElectricCar(Car):\n",
    "    #电动车的独特之处\n",
    "    \n",
    "    def __init__(self, make, model, year):\n",
    "        #初始化父类的属性\n",
    "        super().__init__(make,model, year)\n",
    "        \n",
    "    def __init__(self,make,model,year):\n",
    "        #电动汽车的独特之处，初始化父类的属性，在初始化电动汽车特有的属性\n",
    "        super().__init__(make,model,year)\n",
    "        self.battery_size = 70\n",
    "        \n",
    "    def describe_battery(self):\n",
    "        #打印一条描述电瓶容量的消息\n",
    "        print(\"This car has a \" + str(self.battery_size) + \"-kWh battery\")\n",
    "\n",
    "my_tesla = ElectricCar('tesla','model s', 2016)\n",
    "print(my_tesla.get_descriptive_name())\n",
    "my_tesla.describe_battery()"
   ]
  },
  {
   "cell_type": "code",
   "execution_count": 17,
   "metadata": {},
   "outputs": [
    {
     "name": "stdout",
     "output_type": "stream",
     "text": [
      "2016 tesla model s\n",
      "This car has a 70-kWh battery\n",
      "This car doesn't need a gas tank!\n"
     ]
    }
   ],
   "source": [
    "# 9.3.4 重写父类的方法\n",
    "# 对于父类的方法，只要它不符合子类模拟的实物的行为，都可对其进行重写。\n",
    "-\n",
    "        \n",
    "    \n",
    "    def fill_gas_tank(self):\n",
    "        #电动车没有油箱\n",
    "        print(\"This car doesn't need a gas tank!\")\n",
    "        \n",
    "    def describe_battery(self):\n",
    "        #打印一条描述电瓶容量的消息\n",
    "        print(\"This car has a \" + str(self.battery_size) + \"-kWh battery\")\n",
    "\n",
    "my_tesla = ElectricCar('tesla','model s', 2016)\n",
    "print(my_tesla.get_descriptive_name())\n",
    "my_tesla.describe_battery()\n",
    "my_tesla.fill_gas_tank()\n"
   ]
  },
  {
   "cell_type": "markdown",
   "metadata": {},
   "source": [
    "# 9.3.5 将实例用作属性\n",
    "     --使用代码模拟实物时，你可能会发现自己给类添加的细节越来越多：属性和方法清单以及文件都越来越长。\n",
    "     --在这种情况下，可能需要将类的一部分最为一个独立的类提取出来，你可以将大型类拆分成多个协同工作的小类\n"
   ]
  },
  {
   "cell_type": "code",
   "execution_count": 1,
   "metadata": {},
   "outputs": [
    {
     "name": "stdout",
     "output_type": "stream",
     "text": [
      "2016 tesla model s\n",
      "This car has a 70-kWh battert.\n"
     ]
    }
   ],
   "source": [
    "class Car():\n",
    "    #一次模拟汽车的简单尝试\n",
    "    def __init__(self, make, model, year):\n",
    "        self.make = make\n",
    "        self.model = model\n",
    "        self.year = year\n",
    "        self.odometer_reading = 0\n",
    "    \n",
    "    def get_descriptive_name(self):\n",
    "        #返回整洁的描述性信息\n",
    "        long_name = str(self.year)+ ' ' + self.make + ' ' + self.model\n",
    "        return long_name\n",
    "\n",
    "    def read_odometer(self):\n",
    "        #打印一条指出汽车里程的消息\n",
    "        print(\"This car has \" + str(self.odometer_reading) + \" miles on it.\")\n",
    "        \n",
    "    def update_odometer(self, mileage):\n",
    "        #将里程表读数设置为指定的值\n",
    "        if mileage >= self.odometer_reading:\n",
    "            self.odometer_reading = mileage\n",
    "        else:\n",
    "            print(\"You can't roll back an odometer!\")\n",
    "    \n",
    "    def increment_odometer(self, miles):\n",
    "        #将里程表读书增加指定的量\n",
    "        self.odometer_reading += miles\n",
    "        \n",
    "\n",
    "class Battery():\n",
    "    #一次模拟电动汽车电瓶的简单尝试\n",
    "    def __init__(self, battery_size=70):\n",
    "        # 初始化电瓶的属性\n",
    "        self.battery_size = battery_size\n",
    "    \n",
    "    def describe_battery(self):\n",
    "        #打印一条描述电瓶容量的消息\n",
    "        print(\"This car has a \" + str(self.battery_size) + \"-kWh battert.\")\n",
    "        \n",
    "        \n",
    "class ElectricCar(Car):\n",
    "    #电动车的独特之处\n",
    "\n",
    "        \n",
    "    def __init__(self,make,model,year):\n",
    "        #电动汽车的独特之处，初始化父类的属性，在初始化电动汽车特有的属性\n",
    "        super().__init__(make,model,year)\n",
    "        self.battery = Battery()\n",
    "\n",
    "my_tesla = ElectricCar('tesla','model s', 2016)\n",
    "print(my_tesla.get_descriptive_name())\n",
    "my_tesla.battery.describe_battery()"
   ]
  },
  {
   "cell_type": "markdown",
   "metadata": {},
   "source": [
    "# 10.异常\n",
    "    --Python使用被称为异常的特殊对象来管理程序执行期间发生的错误。\n",
    "    --每当发生让Python不知所措的错误时，他都会创建一个异常对象。\n",
    "    --如果编写了处理该异常的代码，程序将继续运行；如果未处理，程序将终止，并显示一个traceback，其中包含有关异常的报告\n",
    "    --异常是使用try-except代码块处理的。try-except代码块让Python执行指定的操作，同时告诉Python发生异常时怎么办。\n",
    "    --使用try-except代码时，即便出现异常，程序也将继续运行：显示你编写的友好错误消息，而不是令用户迷惑的traceback\n",
    "    "
   ]
  },
  {
   "cell_type": "code",
   "execution_count": 3,
   "metadata": {},
   "outputs": [
    {
     "name": "stdout",
     "output_type": "stream",
     "text": [
      "Plz input your number:0\n",
      "You can't dibide by zero!\n",
      "division by zero\n"
     ]
    }
   ],
   "source": [
    "#处理ZeroDivisionError异常\n",
    "try:\n",
    "    num = int(input(\"Plz input your number:\"))\n",
    "    rst = 100/num\n",
    "    print(\"计算结果是: {0}\".format(rst))\n",
    "except ZeroDivisionError as e:\n",
    "    print(\"You can't dibide by zero!\")\n",
    "    print(e)\n"
   ]
  },
  {
   "cell_type": "code",
   "execution_count": 9,
   "metadata": {},
   "outputs": [
    {
     "name": "stdout",
     "output_type": "stream",
     "text": [
      "Give me two number, and I'll divide them.\n",
      "Enter 'q' to quit.\n",
      "\n",
      "First number: q\n"
     ]
    }
   ],
   "source": [
    "# 使用异常避免崩溃\n",
    "try:\n",
    "    \n",
    "    print(\"Give me two number, and I'll divide them.\")\n",
    "    print(\"Enter 'q' to quit.\")\n",
    "    while True:\n",
    "        first_number = input(\"\\nFirst number: \")\n",
    "        if first_number == 'q':\n",
    "            break\n",
    "        second_number = input(\"Second number: \")\n",
    "        if second_number == 'q':\n",
    "            break\n",
    "        answer = int(first_number) / int(second_number)\n",
    "        print(answer)\n",
    "except ZeroDivisionError:\n",
    "    print(\"0 不能作为被除数!\")\n",
    "    "
   ]
  },
  {
   "cell_type": "code",
   "execution_count": 2,
   "metadata": {},
   "outputs": [
    {
     "name": "stdout",
     "output_type": "stream",
     "text": [
      "Give me two number, and I'll divide them.\n",
      "Enter 'q' to quit.\n",
      "\n",
      "First number: 5\n",
      "Second number: 0\n",
      "0 不能作为被除数!\n",
      "\n",
      "First number: q\n"
     ]
    }
   ],
   "source": [
    "# else代码块\n",
    "\n",
    "    \n",
    "print(\"Give me two number, and I'll divide them.\")\n",
    "print(\"Enter 'q' to quit.\")\n",
    "while True:\n",
    "    first_number = input(\"\\nFirst number: \")\n",
    "    if first_number == 'q':\n",
    "        break\n",
    "    second_number = input(\"Second number: \")\n",
    "    if second_number == 'q':\n",
    "        break\n",
    "    try:            \n",
    "        answer = int(first_number) / int(second_number)\n",
    "    except ZeroDivisionError:\n",
    "        print(\"0 不能作为被除数!\")\n",
    "    else:\n",
    "        print(answer)\n",
    "    "
   ]
  },
  {
   "cell_type": "markdown",
   "metadata": {},
   "source": [
    "# 处理FileNotFoundError异常\n",
    "    -使用文件时，一种常见的问题是找不到文件：\n",
    "    -对于所有这种情形，都可使用try-except代码以直观的方式进行处理"
   ]
  },
  {
   "cell_type": "code",
   "execution_count": 6,
   "metadata": {},
   "outputs": [
    {
     "name": "stdout",
     "output_type": "stream",
     "text": [
      "Sorry, the file alice.txtdoes not exist\n"
     ]
    }
   ],
   "source": [
    "# 将文件赋值到filename上\n",
    "filename = 'alice.txt'\n",
    "#检测异常\n",
    "try:\n",
    "    with open(filename) as f_obj:\n",
    "        contents = f_obj.read()\n",
    "#如果出现异常，异常处理\n",
    "except FileNotFoundError:\n",
    "    msg = \"Sorry, the file \" + filename + \"does not exist\"\n",
    "    print(msg)"
   ]
  },
  {
   "cell_type": "code",
   "execution_count": 9,
   "metadata": {},
   "outputs": [
    {
     "data": {
      "text/plain": [
       "['I', 'love', 'you']"
      ]
     },
     "execution_count": 9,
     "metadata": {},
     "output_type": "execute_result"
    }
   ],
   "source": [
    "# 分析文本\n",
    "title = \"Alice in wonderland\"\n",
    "title.split()\n",
    "['Alice', 'in', 'wonderland']\n",
    "# 方法split()以空格为分隔符将字符串分成多个部分，并将这些部分存储到一个列表当中。\n",
    "titles = \"I love you\"\n",
    "titles.split()\n",
    "# 见pycharm\n"
   ]
  },
  {
   "cell_type": "markdown",
   "metadata": {},
   "source": [
    "# 存储数据\n",
    "    - 很多程序都要求用户输入某种信息，如让用户存储游戏首选项或提供要可视化的数据。\n",
    "    - 不管专注的是什么，程序都把用户提供的信息存储在列表和字典等数据中。\n",
    "    - 用户关闭程序时，你聚湖总是要保存他们提供的信息，一种简单的方式是使用模块json来存储数据\n",
    "    "
   ]
  },
  {
   "cell_type": "markdown",
   "metadata": {},
   "source": [
    "# json\n",
    "    -模块json让你能够简单的Python数据结构转存到文件中，并在程序再次运行时加载该文件中的数据。\n",
    "    -你还可以使用json在Python程序之间分享数据。\n",
    "    -更重要的是，JSON数据格式并非Python专用的，这让你能后将以JSON格式存储的数据与使用其他编程语言的分享\n",
    "    "
   ]
  },
  {
   "cell_type": "code",
   "execution_count": 13,
   "metadata": {
    "collapsed": true
   },
   "outputs": [],
   "source": [
    "# jsom.dump()函数\n",
    "import json\n",
    "\n",
    "numbers = [2, 3, 5, 7, 11, 13]\n",
    "#把列表写入文件中以json格式存储\n",
    "filename = 'numbers.json'\n",
    "# 写入到文件当中\n",
    "with open(filename, 'w') as f_obj:\n",
    "    json.dump(numbers, f_obj)"
   ]
  },
  {
   "cell_type": "code",
   "execution_count": 15,
   "metadata": {},
   "outputs": [
    {
     "name": "stdout",
     "output_type": "stream",
     "text": [
      "[2, 3, 5, 7, 11, 13]\n"
     ]
    }
   ],
   "source": [
    "# json.load()函数\n",
    "import json\n",
    "\n",
    "filename = 'numbers.json'\n",
    "with open(filename) as f_obj:\n",
    "    numbers = json.load(f_obj)\n",
    "    \n",
    "print(numbers)"
   ]
  },
  {
   "cell_type": "code",
   "execution_count": 18,
   "metadata": {
    "collapsed": true
   },
   "outputs": [],
   "source": [
    "filename = 'aicet.txt'\n",
    "with open(filename, 'w') as f_obj:\n",
    "    f_obj.write(\"I love you\")"
   ]
  },
  {
   "cell_type": "code",
   "execution_count": 2,
   "metadata": {},
   "outputs": [
    {
     "name": "stdout",
     "output_type": "stream",
     "text": [
      "What is your name?Eric\n",
      "We'll reme,ber you when you come back, Eric !\n"
     ]
    }
   ],
   "source": [
    "# 保存和读取用户生成的数据\n",
    "# 对于用户生成的数据，使用json保存它们大有裨益，因为如果不以某种方式进行存储，等程序停止运行时，用户的信息将丢失。\n",
    "import json\n",
    "\n",
    "username = input(\"What is your name?\")\n",
    "\n",
    "filename = 'username.json'\n",
    "with open(filename, 'w') as f_obj:\n",
    "    json.dump(username, f_obj)\n",
    "    print(\"We'll reme,ber you when you come back,\", username, \"!\")"
   ]
  },
  {
   "cell_type": "code",
   "execution_count": 4,
   "metadata": {},
   "outputs": [
    {
     "name": "stdout",
     "output_type": "stream",
     "text": [
      "Welcome back, Eric !\n"
     ]
    }
   ],
   "source": [
    "import json\n",
    "filename = 'username.json'\n",
    "\n",
    "with open(filename) as f_obj:\n",
    "    username = json.load(f_obj)\n",
    "    print(\"Welcome back,\", username, \"!\")"
   ]
  },
  {
   "cell_type": "code",
   "execution_count": 7,
   "metadata": {},
   "outputs": [
    {
     "name": "stdout",
     "output_type": "stream",
     "text": [
      "Welcome back, Eric !\n"
     ]
    }
   ],
   "source": [
    "import json\n",
    "filename = 'username.json'\n",
    "try:\n",
    "    with open(filename) as f_obj:\n",
    "        username = json.load(f_obj)\n",
    "except FileNotFoundError:\n",
    "    username = input(\"What is your name?\")\n",
    "    with open(filename, 'w') as f_obj:\n",
    "        json.dump(username, f_obj)\n",
    "        print(\"We'll remember you  when you come back, \", username ,\"!\")\n",
    "else:\n",
    "    print(\"Welcome back,\", username, \"!\")"
   ]
  },
  {
   "cell_type": "code",
   "execution_count": 12,
   "metadata": {},
   "outputs": [
    {
     "name": "stdout",
     "output_type": "stream",
     "text": [
      "Welcome back,  Eric !\n"
     ]
    }
   ],
   "source": [
    "# 重构\n",
    "# 经常会遇到这样的情况：代码能够正确的运行，但可做进一步的改进，将代码划分为一系列完成具体工作的函数。\n",
    "# 重构让代码更清晰更易于理解、更容易扩展。\n",
    "import json\n",
    "\n",
    "def greet_user():\n",
    "    # 问候用户，并指出其名字\n",
    "    filename = 'username.json'\n",
    "    try:\n",
    "        with open(filename) as f_obj:\n",
    "            username = json.load(f_obj)\n",
    "    except FileNotFoundError:\n",
    "        username = input(\"What is your name?\")\n",
    "        with open(filename, 'w') as f_obj:\n",
    "            json.dump(username, f_obj)\n",
    "            print(\"We'll remember you when you come back, \", username, \"!\")\n",
    "    else:\n",
    "        print(\"Welcome back, \", username, \"!\")\n",
    "greet_user()"
   ]
  },
  {
   "cell_type": "code",
   "execution_count": 14,
   "metadata": {},
   "outputs": [
    {
     "name": "stdout",
     "output_type": "stream",
     "text": [
      "Welcome back,  Eric !\n"
     ]
    }
   ],
   "source": [
    "import json\n",
    "\n",
    "def get_stored_username():\n",
    "    '''如果存储了用户名，就获取它'''\n",
    "    filename = 'username.json'\n",
    "    try:\n",
    "        with open(filename) as f_obj:\n",
    "            username = json.load(f_obj)\n",
    "    except FileNotFoundError:\n",
    "        return None\n",
    "    else:\n",
    "        return username\n",
    "    \n",
    "def greet_user():\n",
    "    '''问候用户，并指出名字'''\n",
    "    username = get_stored_username()\n",
    "    if username:\n",
    "        print(\"Welcome back, \", username, \"!\")\n",
    "    else:\n",
    "        username = input(\"What is your name?\")\n",
    "        filename = 'username.json'\n",
    "        with open(filename, 'w') as f_obj:\n",
    "            json.dump(username, f_obj)\n",
    "            print(\"We'll remember you when you come back, \", username, \"!\")\n",
    "greet_user()"
   ]
  },
  {
   "cell_type": "code",
   "execution_count": 19,
   "metadata": {},
   "outputs": [
    {
     "name": "stdout",
     "output_type": "stream",
     "text": [
      "Welcome back, Eric !\n"
     ]
    }
   ],
   "source": [
    "import json\n",
    "\n",
    "def get_stored_username():\n",
    "    filename = 'username.json'\n",
    "    try:\n",
    "        with open(filename) as f_obj:\n",
    "            username = json.load(f_obj)\n",
    "    except FileNotFoundError:\n",
    "        return None\n",
    "    else:\n",
    "        return username\n",
    "def get_new_username():\n",
    "    username = input(\"What is your name?\")\n",
    "    filename = username.json\n",
    "    with open(filename, 'w') as f_obj:\n",
    "        json_dump(username,f_obj)\n",
    "        return username\n",
    "def greet_user():\n",
    "    username = get_stored_username()\n",
    "    if username:\n",
    "        print(\"Welcome back,\", username, \"!\")\n",
    "    else:\n",
    "        username = get_new_username()\n",
    "        print(\"We'll remember you when you come back, \", username, \"!\")\n",
    "        \n",
    "greet_user()"
   ]
  },
  {
   "cell_type": "markdown",
   "metadata": {
    "collapsed": true
   },
   "source": [
    "# 测试代码\n",
    "    -编写函数或者类时，还可为其编写测试，\n",
    "    -通过测试，可确定代码面对各种输入都能够按要求的那样工作，测试让你信心满满，深信即便有更多的人使用你的程序他也能正确的工作。\n",
    "    -在程序中添加新代码时，你也可以对其进行测试，确认他们不会破坏程序既有的行为。\n",
    "    -程序员都会犯错，因此每个程序员都必须经常测试其代码，在用户发现问题前找出它们。\n",
    "    "
   ]
  },
  {
   "cell_type": "code",
   "execution_count": 2,
   "metadata": {
    "collapsed": true
   },
   "outputs": [],
   "source": [
    "# 测试函数\n",
    "def get_formattd_name(first, last):\n",
    "    '''Generate a neatly formatted full name.'''\n",
    "    full_name = first, ' ', last\n",
    "    return full_name.title()\n",
    "# 见pycharm"
   ]
  },
  {
   "cell_type": "markdown",
   "metadata": {},
   "source": [
    "# 14.数据生成"
   ]
  },
  {
   "cell_type": "code",
   "execution_count": 2,
   "metadata": {},
   "outputs": [
    {
     "name": "stderr",
     "output_type": "stream",
     "text": [
      "/var/sw/anaconda3/lib/python3.6/site-packages/matplotlib/font_manager.py:279: UserWarning: Matplotlib is building the font cache using fc-list. This may take a moment.\n",
      "  'Matplotlib is building the font cache using fc-list. '\n"
     ]
    },
    {
     "data": {
      "image/png": "[encoded data removed]",
      "text/plain": [
       "<matplotlib.figure.Figure at 0x7fbfd4313320>"
      ]
     },
     "metadata": {},
     "output_type": "display_data"
    }
   ],
   "source": [
    "import matplotlib.pyplot as plt\n",
    "\n",
    "squares = [1,4,9,16,25]\n",
    "plt.plot(squares)\n",
    "plt.show()"
   ]
  }
 ],
 "metadata": {
  "kernelspec": {
   "display_name": "Python 3",
   "language": "python",
   "name": "python3"
  },
  "language_info": {
   "codemirror_mode": {
    "name": "ipython",
    "version": 3
   },
   "file_extension": ".py",
   "mimetype": "text/x-python",
   "name": "python",
   "nbconvert_exporter": "python",
   "pygments_lexer": "ipython3",
   "version": "3.6.3"
  }
 },
 "nbformat": 4,
 "nbformat_minor": 2
}

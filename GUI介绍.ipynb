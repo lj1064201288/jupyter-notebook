{
 "cells": [
  {
   "cell_type": "code",
   "execution_count": 2,
   "metadata": {
    "collapsed": true
   },
   "outputs": [],
   "source": [
    "# 测试tkinter包是否好用\n",
    "import tkinter\n",
    "tkinter._test()"
   ]
  },
  {
   "cell_type": "code",
   "execution_count": null,
   "metadata": {
    "collapsed": true
   },
   "outputs": [],
   "source": [
    "# hello world\n",
    "import tkinter\n",
    "\n",
    "base = tkinter.Tk()\n",
    "\n",
    "# 消息循环\n",
    "base.mainloop()"
   ]
  },
  {
   "cell_type": "code",
   "execution_count": 9,
   "metadata": {},
   "outputs": [],
   "source": [
    "# Label的例子\n",
    "import tkinter\n",
    "\n",
    "base = tkinter.Tk()\n",
    "\n",
    "# 负责标题\n",
    "base.wm_title(\"Label Test\")\n",
    "\n",
    "lb = tkinter.Label(base, text=\"Python\")\n",
    "# 给相应组件指定布局\n",
    "lb.pack()"
   ]
  },
  {
   "cell_type": "code",
   "execution_count": null,
   "metadata": {
    "collapsed": true
   },
   "outputs": [],
   "source": []
  }
 ],
 "metadata": {
  "kernelspec": {
   "display_name": "Python 3",
   "language": "python",
   "name": "python3"
  },
  "language_info": {
   "codemirror_mode": {
    "name": "ipython",
    "version": 3
   },
   "file_extension": ".py",
   "mimetype": "text/x-python",
   "name": "python",
   "nbconvert_exporter": "python",
   "pygments_lexer": "ipython3",
   "version": "3.6.3"
  }
 },
 "nbformat": 4,
 "nbformat_minor": 2
}

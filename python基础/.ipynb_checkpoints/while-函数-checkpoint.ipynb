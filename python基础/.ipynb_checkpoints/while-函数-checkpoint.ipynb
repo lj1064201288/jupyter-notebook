{
 "cells": [
  {
   "cell_type": "markdown",
   "metadata": {},
   "source": [
    "# while循环\n",
    "    -一个循环语句\n",
    "    -表示当某条件成立时就循环\n",
    "    -不知道具体循环次数，但能确定循环的成立条件的时候使用while循环\n",
    "    -while语法:\n",
    "         \n",
    "            while 条件表达式:\n",
    "                语句块\n",
    "            ＃另外一种表达方法\n",
    "            while 条件表达式:\n",
    "                语句块1\n",
    "            else:\n",
    "                语句块2"
   ]
  },
  {
   "cell_type": "code",
   "execution_count": 2,
   "metadata": {},
   "outputs": [
    {
     "name": "stdout",
     "output_type": "stream",
     "text": [
      "第1年拿到了106700.0块钱\n",
      "第2年拿到了113848.9块钱\n",
      "第3年拿到了121476.77629999998块钱\n",
      "第4年拿到了129615.72031209998块钱\n",
      "第5年拿到了138299.97357301068块钱\n",
      "第6年拿到了147566.07180240238块钱\n",
      "第7年拿到了157452.99861316333块钱\n",
      "第8年拿到了168002.34952024528块钱\n",
      "第9年拿到了179258.5069381017块钱\n",
      "第10年拿到了191268.8269029545块钱\n",
      "第11年拿到了204083.83830545243块钱\n"
     ]
    }
   ],
   "source": [
    "# 如果说年利率是6.7%,本利是每年翻滚，则多少年后本钱会翻倍\n",
    "\n",
    "benqian = 100000\n",
    "year = 0\n",
    "while benqian < 200000:\n",
    "    benqian = benqian * (1+0.067)\n",
    "    year += 1 # year = year +1\n",
    "    print(\"第{0}年拿到了{1}块钱\".format(year, benqian))"
   ]
  },
  {
   "cell_type": "code",
   "execution_count": 4,
   "metadata": {},
   "outputs": [
    {
     "name": "stdout",
     "output_type": "stream",
     "text": [
      "第1年拿了106700.0块钱\n",
      "第2年拿了113848.9块钱\n",
      "第3年拿了121476.77629999998块钱\n",
      "第4年拿了129615.72031209998块钱\n",
      "第5年拿了138299.97357301068块钱\n",
      "第6年拿了147566.07180240238块钱\n",
      "第7年拿了157452.99861316333块钱\n",
      "第8年拿了168002.34952024528块钱\n",
      "第9年拿了179258.5069381017块钱\n",
      "第10年拿了191268.8269029545块钱\n",
      "第11年拿了204083.83830545243块钱\n",
      "终于翻倍了!\n",
      "现在20玩可以盖个厨房了\n"
     ]
    }
   ],
   "source": [
    "# 如果说年利率是6.7％，本利每年翻滚，则多少年后本钱翻倍\n",
    "#　如果拿到的钱翻倍，则用print庆祝下\n",
    "benqian = 100000\n",
    "year = 0\n",
    "while benqian < 200000:\n",
    "    benqian = benqian * (1+0.067)\n",
    "    year += 1\n",
    "    print(\"第{0}年拿了{1}块钱\".format(year, benqian))\n",
    "else:\n",
    "    print(\"终于翻倍了!\")\n",
    "    print(\"现在20玩可以盖个厨房了\")\n",
    "    "
   ]
  },
  {
   "cell_type": "code",
   "execution_count": 7,
   "metadata": {},
   "outputs": [
    {
     "name": "stdout",
     "output_type": "stream",
     "text": [
      "我是一个函数\n",
      "我要完成一定的功能\n",
      "None 我结束了\n"
     ]
    }
   ],
   "source": [
    "# 定义一个函数\n",
    "# 只是定义不执行的话不会执行\n",
    "# 1.def关键字，后面跟一个空格\n",
    "# 2,函数名,自己定义，起名需要遵循变量命名规则，约定俗成，大驼峰命名只给类使用\n",
    "# 3,后面括号和冒号不能省,括号内可以有参数\n",
    "# 4,函数内所有代码缩进\n",
    "\n",
    "def func():\n",
    "    print(\"我是一个函数\")\n",
    "    print(\"我要完成一定的功能\")\n",
    "print(func(),\"我结束了\")"
   ]
  },
  {
   "cell_type": "code",
   "execution_count": 9,
   "metadata": {},
   "outputs": [
    {
     "name": "stdout",
     "output_type": "stream",
     "text": [
      "我是一个函数\n",
      "我要完成一定的功能\n"
     ]
    }
   ],
   "source": [
    "# 函数的调用\n",
    "# 直接函数名后面跟括号\n",
    "func()"
   ]
  },
  {
   "cell_type": "markdown",
   "metadata": {},
   "source": [
    "# 函数的参数和返回值\n",
    "    -参数: 负责给函数传递一些必要的数据或者信息\n",
    "        -形参(形式参数):在函数定义的时候用到的参数没有具体值，只是一个占位的符号，称为形参\n",
    "        -实参(实际参数):在调用函数的时候输入的值\n",
    "    -返回值: 函数的执行结果\n",
    "        - 使用return关键字\n",
    "        - 如果没有return，默认返回一个None\n",
    "        -　函数一旦执行return语句，则无条件返回，即结束函数的执行"
   ]
  },
  {
   "cell_type": "code",
   "execution_count": 11,
   "metadata": {},
   "outputs": [
    {
     "name": "stdout",
     "output_type": "stream",
     "text": [
      "明月,　你怎么了\n",
      "Sir,　你不理我了了？\n"
     ]
    }
   ],
   "source": [
    "# 参数person只是一个符号，代表的是调用的时候的某一个数据\n",
    "# 调用的时候，会用p的值代替函数中所有的person\n",
    "def hello(person):\n",
    "    print(\"{0},　你怎么了\".format(person))\n",
    "    print(\"Sir,　你不理我了了？\")\n",
    "p = \"明月\"\n",
    "hello(p)"
   ]
  },
  {
   "cell_type": "code",
   "execution_count": 15,
   "metadata": {},
   "outputs": [
    {
     "name": "stdout",
     "output_type": "stream",
     "text": [
      "明月你怎么了\n",
      "Sir,　你怎么不理我呢?\n",
      "我已经跟明月打招呼了，明月不理我\n"
     ]
    }
   ],
   "source": [
    "# return 语句的基本你使用\n",
    "# 函数打完招呼后返回一句话\n",
    "def hello(person):\n",
    "    print(\"{0}你怎么了\".format(person))\n",
    "    print(\"Sir,　你怎么不理我呢?\")\n",
    "    \n",
    "    return \"我已经跟{0}打招呼了，{1}不理我\".format(person,person)\n",
    "p = \"明月\"\n",
    "rst = hello(p)\n",
    "print(rst)"
   ]
  },
  {
   "cell_type": "code",
   "execution_count": 19,
   "metadata": {},
   "outputs": [
    {
     "name": "stdout",
     "output_type": "stream",
     "text": [
      "刘颖,你怎么了\n",
      "提前结束了\n"
     ]
    }
   ],
   "source": [
    "# return 案例２\n",
    "def hello(person):\n",
    "    print(\"{0},你怎么了\".format(person))\n",
    "    return \"提前结束了\"\n",
    "    print(\"Sir,　你怎么不理我呢？\")\n",
    "    return \"我已经跟{0}打完招呼了，{1}不理我\".format(person,person)\n",
    "p = \"刘颖\"\n",
    "rst = hello(p)\n",
    "print(rst)"
   ]
  },
  {
   "cell_type": "code",
   "execution_count": 24,
   "metadata": {},
   "outputs": [
    {
     "name": "stdout",
     "output_type": "stream",
     "text": [
      "1 ————————————————————\n",
      "2 4 ————————————————————\n",
      "3 6 9 ————————————————————\n",
      "4 8 12 16 ————————————————————\n",
      "5 10 15 20 25 ————————————————————\n",
      "6 12 18 24 30 36 ————————————————————\n",
      "7 14 21 28 35 42 49 ————————————————————\n",
      "8 16 24 32 40 48 56 64 ————————————————————\n",
      "9 18 27 36 45 54 63 72 81 ————————————————————\n"
     ]
    }
   ],
   "source": [
    "# 九九乘法表\n",
    "# version1.0\n",
    "for row in range(1,10):\n",
    "    # 打印一行\n",
    "    for col in range(1,row+1):\n",
    "        # print函数默认任务打印完毕后换行\n",
    "        print(row * col, end = \" \")\n",
    "    print(\"————————————————————\")"
   ]
  },
  {
   "cell_type": "code",
   "execution_count": 26,
   "metadata": {},
   "outputs": [
    {
     "name": "stdout",
     "output_type": "stream",
     "text": [
      "1 \n",
      "2 4 \n",
      "3 6 9 \n",
      "4 8 12 16 \n",
      "5 10 15 20 25 \n",
      "6 12 18 24 30 36 \n",
      "7 14 21 28 35 42 49 \n",
      "8 16 24 32 40 48 56 64 \n",
      "9 18 27 36 45 54 63 72 81 \n"
     ]
    }
   ],
   "source": [
    "# 定义一个函数,打印一行九九乘法表\n",
    "def printLine(row):\n",
    "    for col in range(1,row+1):\n",
    "        # print函数默认任务打印完毕后换行\n",
    "        print(row * col, end = \" \")\n",
    "    print(\"\")\n",
    "#　九九乘法表\n",
    "# version 2.0\n",
    "for row in range (1,10):\n",
    "    printLine(row)"
   ]
  },
  {
   "cell_type": "code",
   "execution_count": 27,
   "metadata": {
    "collapsed": true
   },
   "outputs": [],
   "source": [
    "# 默认参数示例\n",
    "# 报名函数,需要知道学生的性别\n",
    "#　学习python的学生基本都是男生,所以，报名的时候如果没有特别指定，我们的任务是男生\n",
    "def reg(name, age, gender=\"male\"):\n",
    "    if gender == \"male\":\n",
    "        print(\"{0} is {1}, and he is a good studet\".format(name,age))\n",
    "    else:\n",
    "        print(\"{0} is {1}, and she is a good student\".format(name,age))"
   ]
  },
  {
   "cell_type": "code",
   "execution_count": 28,
   "metadata": {},
   "outputs": [
    {
     "name": "stdout",
     "output_type": "stream",
     "text": [
      "明月 is 21, and he is a good studet\n",
      "xiaojing is 21, and she is a good student\n"
     ]
    }
   ],
   "source": [
    "# 调用默认参数函数的案例１\n",
    "reg(\"明月\", 21)\n",
    "reg(\"xiaojing\", 21, \"female\")"
   ]
  }
 ],
 "metadata": {
  "kernelspec": {
   "display_name": "Python 3",
   "language": "python",
   "name": "python3"
  },
  "language_info": {
   "codemirror_mode": {
    "name": "ipython",
    "version": 3
   },
   "file_extension": ".py",
   "mimetype": "text/x-python",
   "name": "python",
   "nbconvert_exporter": "python",
   "pygments_lexer": "ipython3",
   "version": "3.6.3"
  }
 },
 "nbformat": 4,
 "nbformat_minor": 2
}

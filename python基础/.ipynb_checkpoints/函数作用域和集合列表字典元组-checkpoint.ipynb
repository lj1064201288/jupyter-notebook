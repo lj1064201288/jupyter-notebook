{
 "cells": [
  {
   "cell_type": "markdown",
   "metadata": {},
   "source": [
    "# 变量作用域\n",
    "    -变量有作用范围限制\n",
    "    -分类:　按照作用于分类\n",
    "        -全局(global):在函数外部定义\n",
    "        -局部(local):在函数内部定义\n",
    "    -变量的作用范围:\n",
    "        -全局变量：在整个全局范围都有效\n",
    "        -全局变量在局部可以使用(即函数内部可以方位函数外部定义的变量)\n",
    "        -局部变量在局部范围可以使用\n",
    "        -局部变量在全局范围无法使用\n",
    "     -LEGB原则:\n",
    "         -L(Local):局部作用域\n",
    "         -E(Enclosing function locale)外部嵌套函数作用域\n",
    "         -G(Global module):函数定义所在模块的作用域\n",
    "         -B(Bulidin):　python内置模块的作用域"
   ]
  },
  {
   "cell_type": "code",
   "execution_count": 3,
   "metadata": {},
   "outputs": [
    {
     "name": "stdout",
     "output_type": "stream",
     "text": [
      "100\n",
      "100\n",
      "I am in fun\n",
      "99\n"
     ]
    },
    {
     "ename": "NameError",
     "evalue": "name 'a2' is not defined",
     "output_type": "error",
     "traceback": [
      "\u001b[0;31m---------------------------------------------------------------------------\u001b[0m",
      "\u001b[0;31mNameError\u001b[0m                                 Traceback (most recent call last)",
      "\u001b[0;32m<ipython-input-3-71e69acd2abc>\u001b[0m in \u001b[0;36m<module>\u001b[0;34m()\u001b[0m\n\u001b[1;32m     11\u001b[0m \u001b[0mprint\u001b[0m\u001b[0;34m(\u001b[0m\u001b[0ma1\u001b[0m\u001b[0;34m)\u001b[0m\u001b[0;34m\u001b[0m\u001b[0m\n\u001b[1;32m     12\u001b[0m \u001b[0mfun\u001b[0m\u001b[0;34m(\u001b[0m\u001b[0;34m)\u001b[0m\u001b[0;34m\u001b[0m\u001b[0m\n\u001b[0;32m---> 13\u001b[0;31m \u001b[0mprint\u001b[0m\u001b[0;34m(\u001b[0m\u001b[0ma2\u001b[0m\u001b[0;34m)\u001b[0m\u001b[0;34m\u001b[0m\u001b[0m\n\u001b[0m",
      "\u001b[0;31mNameError\u001b[0m: name 'a2' is not defined"
     ]
    }
   ],
   "source": [
    "# 认为al是全局的\n",
    "a1 = 100\n",
    "\n",
    "def fun():\n",
    "    print(a1)\n",
    "    print(\"I am in fun\")\n",
    "    #　a2的作用范围是fun\n",
    "    a2 = 99\n",
    "    print(a2)\n",
    "    \n",
    "print(a1)\n",
    "fun()\n",
    "print(a2)"
   ]
  },
  {
   "cell_type": "markdown",
   "metadata": {},
   "source": [
    "#"
   ]
  }
 ],
 "metadata": {
  "kernelspec": {
   "display_name": "Python 3",
   "language": "python",
   "name": "python3"
  },
  "language_info": {
   "codemirror_mode": {
    "name": "ipython",
    "version": 3
   },
   "file_extension": ".py",
   "mimetype": "text/x-python",
   "name": "python",
   "nbconvert_exporter": "python",
   "pygments_lexer": "ipython3",
   "version": "3.6.3"
  }
 },
 "nbformat": 4,
 "nbformat_minor": 2
}

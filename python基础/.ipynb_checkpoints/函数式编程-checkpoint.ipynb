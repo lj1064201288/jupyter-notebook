{
 "cells": [
  {
   "cell_type": "markdown",
   "metadata": {},
   "source": [
    "# Python语言的高级特性\n",
    "## 函数式编程(FunctionalProgramming)\n",
    "    -　基于lambda演算的一种编程方式\n",
    "        -　程序中只有函数\n",
    "        -　函数可以作为参数,同样可以作为返回值\n",
    "        -　纯函数式编程语言: LISP, Haskell\n",
    "     -　Python函数式编程只是借鉴函数式编程的特点,可以理解成一般函数式一半Python\n",
    "     - 需要讲述:\n",
    "         -　高阶函数\n",
    "         -　返回函数\n",
    "         -　匿名函数\n",
    "         - 装饰器\n",
    "         - 偏函数\n",
    "###  lambda　表达式\n",
    "    - 函数:最大程度复用代码\n",
    "        -　存在问题:　如果函数很小，很短，则会造成啰嗦\n",
    "        -　如果函数被调用次数少,则会很浪费\n",
    "        -　对于阅读者来讲,造成月底流程的被迫中断\n",
    "    -　lambda表达式(匿名函数)\n",
    "        - 一个表达式,函数体相对简单\n",
    "        - 不是一个代码块,仅仅是一个表达式\n",
    "        - 可以由参数,有多个参数也可以,用逗号隔开\n",
    "        "
   ]
  },
  {
   "cell_type": "code",
   "execution_count": 6,
   "metadata": {},
   "outputs": [
    {
     "name": "stdout",
     "output_type": "stream",
     "text": [
      "aaaaa\n",
      "/home/tlxy\n",
      "/home/tlxy\n"
     ]
    }
   ],
   "source": [
    "# \"小\" 函数举例\n",
    "def printA():\n",
    "    print(\"aaaaa\")\n",
    "\n",
    "printA()\n",
    "\n",
    "import os\n",
    "print(os.getcwd())\n",
    "os.chdir(\"/home/tlxy\")\n",
    "print(os.getcwd())"
   ]
  },
  {
   "cell_type": "code",
   "execution_count": 3,
   "metadata": {},
   "outputs": [
    {
     "data": {
      "text/plain": [
       "8900"
      ]
     },
     "execution_count": 3,
     "metadata": {},
     "output_type": "execute_result"
    }
   ],
   "source": [
    "# lambda表达式的用法\n",
    "#　1,以lambda开头\n",
    "#　2,紧跟一定的参数(如果有的话)\n",
    "#　3,参数后用冒号和表达式主题隔开\n",
    "#　4,只是一个人表达式,所有，没有return\n",
    "#　计算一个数字的100倍数\n",
    "#　因为就是一个表达式,所以没有return\n",
    "stm = lambda x: 100 * x\n",
    "#　使用上跟函数调用一模一样\n",
    "stm(89)"
   ]
  },
  {
   "cell_type": "code",
   "execution_count": 5,
   "metadata": {},
   "outputs": [
    {
     "data": {
      "text/plain": [
       "654"
      ]
     },
     "execution_count": 5,
     "metadata": {},
     "output_type": "execute_result"
    }
   ],
   "source": [
    "stm2 = lambda x,y,z: x + y * 10 + z * 100\n",
    "stm2(4, 5, 6)"
   ]
  },
  {
   "cell_type": "markdown",
   "metadata": {},
   "source": [
    "## 高阶函数\n",
    "    - 把函数作为参数使用的函数，叫高阶函数"
   ]
  },
  {
   "cell_type": "code",
   "execution_count": 6,
   "metadata": {
    "collapsed": true
   },
   "outputs": [],
   "source": [
    "# 变量可以赋值\n",
    "a = 100\n",
    "b = a"
   ]
  },
  {
   "cell_type": "code",
   "execution_count": 8,
   "metadata": {},
   "outputs": [
    {
     "name": "stdout",
     "output_type": "stream",
     "text": [
      "In funA\n"
     ]
    }
   ],
   "source": [
    "# 函数名称就是一个变量\n",
    "def funA():\n",
    "    print(\"In funA\")\n",
    "    \n",
    "funB = funA\n",
    "funB()"
   ]
  },
  {
   "cell_type": "markdown",
   "metadata": {},
   "source": [
    "## 以上代码得出的结论\n",
    "    -　函数名称是变量\n",
    "    - funB 和 funA 只是名称不一样而已\n",
    "    - 既然函数名称变量，则应该可以被当做参数传入另一个函数\n",
    " "
   ]
  },
  {
   "cell_type": "code",
   "execution_count": 9,
   "metadata": {},
   "outputs": [
    {
     "name": "stdout",
     "output_type": "stream",
     "text": [
      "2700\n",
      "2700\n",
      "210\n"
     ]
    }
   ],
   "source": [
    "#　高级函数举例\n",
    "# funA是普通函数,返回一个传入数字的100倍数字\n",
    "\n",
    "def funA(n):\n",
    "    return n * 100\n",
    "#　再写一个函数，把传入参数乘以300倍\n",
    "def funB(n):\n",
    "    #　最终是想返回300n\n",
    "    return funA(n) * 3\n",
    "print(funB(9))\n",
    "#　写一个高阶函数\n",
    "def funC(n, f):\n",
    "    #　假定函数是把n扩大100倍\n",
    "    return f(n) * 3\n",
    "print(funC(9,funA))\n",
    "\n",
    "#　比较funC和funB,　显然funC的写法要优于funB\n",
    "#　例如\n",
    "def funD(n):\n",
    "    return n * 10\n",
    "\n",
    "#　需求变更,需要把n放大三十倍,此时funB则无法实现\n",
    "print(funC(7, funD))"
   ]
  },
  {
   "cell_type": "markdown",
   "metadata": {},
   "source": [
    "## 系统高阶函数-map\n",
    "    -　原意就是映射,即把集合或者列表的元素,每一个元素都按照一定规则进行操作,生成一个或者集合\n",
    "    -　map函数是系统提供的具有映射功能的函数，返回值是一个迭代对象\n",
    "    \n",
    "    "
   ]
  },
  {
   "cell_type": "code",
   "execution_count": 22,
   "metadata": {},
   "outputs": [
    {
     "name": "stdout",
     "output_type": "stream",
     "text": [
      "[0, 1, 2, 3, 4, 5, 6, 7, 8, 9]\n",
      "[0, 10, 20, 30, 40, 50, 60, 70, 80, 90]\n",
      "0\n",
      "10\n",
      "20\n",
      "30\n",
      "40\n",
      "50\n",
      "60\n",
      "70\n",
      "80\n",
      "90\n",
      "[]\n",
      "<class 'map'>\n",
      "[]\n"
     ]
    }
   ],
   "source": [
    "# map举例\n",
    "#　有一个列表,相对列表里的每一个元素乘以10, 并得到新的列表\n",
    "l1 = [i for i in range(10)]\n",
    "print(l1)\n",
    "l2 = []\n",
    "for i in l1:\n",
    "    l2.append(i * 10)\n",
    "    \n",
    "print(l2)\n",
    "\n",
    "# 利用map实现\n",
    "def mulTen(n):\n",
    "    return n*10\n",
    "\n",
    "l3 = map(mulTen, l1)\n",
    "\n",
    "# map类型是一个可迭代的结构,所以可以使用for遍历\n",
    "for i in l3:\n",
    "    print(i)\n",
    "\n",
    "#　以下列表生成式得到的结果为空,why?\n",
    "l4 = [i for i in l3]\n",
    "print(l4)\n",
    "print(type(l3))\n",
    "print([i for i in l3])\n",
    "# 答: 因为l3是一个map类型,他不是列表,他只是一个可以迭代的结构"
   ]
  },
  {
   "cell_type": "markdown",
   "metadata": {},
   "source": [
    "### reduce\n",
    "    - 原意是归并，缩减\n",
    "    - 把一个可迭代对象最后归并成一个结果\n",
    "    - 对于作为参数的函数要求:　必须由两个参数，必须由返回结果\n",
    "    - reduce([1,2,3,4,5]) == f(f(f(f(1,2,),3),4),5)\n",
    "    - reduce需要导入functools包"
   ]
  },
  {
   "cell_type": "code",
   "execution_count": 18,
   "metadata": {},
   "outputs": [
    {
     "name": "stdout",
     "output_type": "stream",
     "text": [
      "720\n"
     ]
    }
   ],
   "source": [
    "from functools import reduce\n",
    "#　定义一个操作函数\n",
    "#　加入操作函数只是相加\n",
    "def myAdd(x,y):\n",
    "    return x * y\n",
    "#　对于列表[1,2,3,4,5,6]执行myAdd的reduce操作\n",
    "rst = reduce(myAdd, [1,2,3,4,5,6])\n",
    "print(rst)"
   ]
  },
  {
   "cell_type": "markdown",
   "metadata": {},
   "source": [
    "### fifter 函数\n",
    "    - 过滤函数:　对一组数据进行过滤，符合条件的数据会生成一个新的列表返回\n",
    "    - 跟map相比较:\n",
    "        - 相同: 都对列表的每一个元素逐一进行操作\n",
    "        - 不同:\n",
    "            - map会生成一个跟原来数据相对应的新队列\n",
    "            - fiter不一定,只要符合条件的才会进入新的数据集合\n",
    "        - filter函数怎么写:\n",
    "            - 利用给定函数进行判断\n",
    "            - 返回值一定是个布尔值\n",
    "            - 调用格式: filter(f,data), f是过滤函数, data是数据"
   ]
  },
  {
   "cell_type": "code",
   "execution_count": 26,
   "metadata": {},
   "outputs": [
    {
     "name": "stdout",
     "output_type": "stream",
     "text": [
      "<class 'filter'>\n",
      "<filter object at 0x7f236082d048>\n",
      "[4, 56, 14, 6574, 12, 2]\n",
      "[]\n"
     ]
    }
   ],
   "source": [
    "# filter案例\n",
    "#　对一个列表,对其进行过滤,偶数组成一个新列表\n",
    "\n",
    "# 需要定义过滤函数\n",
    "#　过滤函数要求有输入,返回布尔值\n",
    "def isEven(a):\n",
    "    return a % 2 == 0\n",
    "\n",
    "l = [3,4,56,675,14,6574,12,4113,2,451,31]\n",
    "\n",
    "rst = filter(isEven, l)\n",
    "#　返回的filter内容是一个可迭代的对象\n",
    "print(type(rst))\n",
    "print(rst)\n",
    "\n",
    "print([i for i in rst])\n",
    "\n",
    "l6 = [i for i in rst]\n",
    "print(l6)\n",
    "for i in l6:\n",
    "    print(i)"
   ]
  },
  {
   "cell_type": "markdown",
   "metadata": {},
   "source": [
    "# 高阶函数-排序\n",
    "    -　把一个序列按照给定算法进行排序\n",
    "    - key: 在排序前对每一个元素进行key函数运算,可以理解成按照key函数定义的逻辑进行排序\n",
    "    - python2　和 python　相差巨大"
   ]
  },
  {
   "cell_type": "code",
   "execution_count": 28,
   "metadata": {},
   "outputs": [
    {
     "name": "stdout",
     "output_type": "stream",
     "text": [
      "[647, 534, 123, 46, 45, 42, 23, 8, 3, 2]\n"
     ]
    }
   ],
   "source": [
    "#　排序的案例\n",
    "a = [123,534,647,23,42,45,2,3,46,8]\n",
    "\n",
    "a1 = sorted(a, reverse=True)\n",
    "print(a1)"
   ]
  },
  {
   "cell_type": "code",
   "execution_count": 32,
   "metadata": {},
   "outputs": [
    {
     "name": "stdout",
     "output_type": "stream",
     "text": [
      "[-342, -44, -43, 2, 345, 721, 3411]\n",
      "[3411, 721, 345, -342, -44, -43, 2]\n"
     ]
    }
   ],
   "source": [
    "#　排序案例2\n",
    "a = [-43,2,345,721,-342,3411,-44]\n",
    "#　按照绝对值进行排序\n",
    "# abs是求绝对值的意思\n",
    "a1 = sorted(a)\n",
    "print(a1)\n",
    "#　即按照绝对值的倒叙排列\n",
    "a1 = sorted(a, key=abs,reverse=True)\n",
    "\n",
    "print(a1)"
   ]
  },
  {
   "cell_type": "code",
   "execution_count": null,
   "metadata": {
    "collapsed": true
   },
   "outputs": [],
   "source": [
    "# soeted　案例\n",
    "astr = ['dana', 'Dana', 'wangxiaojing', 'jingjing', 'liujun']\n",
    "\n",
    "str1 = sorted(astr)\n",
    "print(str1)\n",
    "\n",
    "str2 = sorted(astr, key=str.lower())\n",
    "print()\n"
   ]
  },
  {
   "cell_type": "markdown",
   "metadata": {
    "collapsed": true
   },
   "source": [
    "## 返回函数\n",
    "    -　函数可以返回具体的值\n",
    "    - 也可以返回一个函数作为结果\n",
    "    "
   ]
  },
  {
   "cell_type": "code",
   "execution_count": 1,
   "metadata": {
    "collapsed": true
   },
   "outputs": [],
   "source": [
    "#　定义一个普通函数\n",
    "def myF(a):\n",
    "    print(\"In myF\")\n",
    "    return None"
   ]
  },
  {
   "cell_type": "code",
   "execution_count": 3,
   "metadata": {},
   "outputs": [
    {
     "name": "stdout",
     "output_type": "stream",
     "text": [
      "In myF\n",
      "None\n"
     ]
    }
   ],
   "source": [
    "a = myF(8)\n",
    "print(a)"
   ]
  },
  {
   "cell_type": "code",
   "execution_count": 4,
   "metadata": {
    "collapsed": true
   },
   "outputs": [],
   "source": [
    "#　函数作为返回值返回, 被返回的函数在函数体内定义\n",
    "def myF2():\n",
    "    def myF3():\n",
    "        print(\"In myF3\")\n",
    "        return 3\n",
    "    return myF3"
   ]
  },
  {
   "cell_type": "code",
   "execution_count": 9,
   "metadata": {},
   "outputs": [
    {
     "name": "stdout",
     "output_type": "stream",
     "text": [
      "<class 'function'>\n",
      "<function myF2.<locals>.myF3 at 0x7fe01876d8c8>\n",
      "In myF3\n"
     ]
    },
    {
     "data": {
      "text/plain": [
       "3"
      ]
     },
     "execution_count": 9,
     "metadata": {},
     "output_type": "execute_result"
    }
   ],
   "source": [
    "#　使用上面的定义\n",
    "#　调用myF2, 返回一个函数myF3,　赋值给f3\n",
    "f3 = myF2()\n",
    "print(type(f3))\n",
    "print(f3)\n",
    "\n",
    "f3()"
   ]
  },
  {
   "cell_type": "code",
   "execution_count": 10,
   "metadata": {
    "collapsed": true
   },
   "outputs": [],
   "source": [
    "#　负责一点的返回函数的例子\n",
    "# args:　参数列表\n",
    "# 1,myF4定义函数,返回内部定义的函数myF5\n",
    "# 2,myF5使用了外部变量,　这个变量是myF4的参数\n",
    "\n",
    "def myF4( *args):\n",
    "    def myF5():\n",
    "        rst = 0\n",
    "        for n in args:\n",
    "            rst += n\n",
    "        return rst\n",
    "    return myF5"
   ]
  },
  {
   "cell_type": "code",
   "execution_count": 12,
   "metadata": {},
   "outputs": [
    {
     "data": {
      "text/plain": [
       "45"
      ]
     },
     "execution_count": 12,
     "metadata": {},
     "output_type": "execute_result"
    }
   ],
   "source": [
    "f5 = myF4(1,2,3,4,5,6,7,8,9)\n",
    "# f5的调用方式\n",
    "f5()"
   ]
  },
  {
   "cell_type": "code",
   "execution_count": 14,
   "metadata": {},
   "outputs": [
    {
     "data": {
      "text/plain": [
       "450"
      ]
     },
     "execution_count": 14,
     "metadata": {},
     "output_type": "execute_result"
    }
   ],
   "source": [
    "f6 = myF4(10,20,30,40,50,60,70,80,90)\n",
    "# f6的调用方式\n",
    "f6()"
   ]
  },
  {
   "cell_type": "markdown",
   "metadata": {},
   "source": [
    "## 闭包(closuer)\n",
    "    - 当一个函数在内部定义函数,并且内部的函数应用外部函数的参数或者变量,党内部函数被当做返回值的时候,相关参数和变量保存再返回的函数中，这种结果,叫做闭包\n",
    "    - 上面定义的myF4是一个标准闭包结构"
   ]
  },
  {
   "cell_type": "code",
   "execution_count": 15,
   "metadata": {},
   "outputs": [
    {
     "name": "stdout",
     "output_type": "stream",
     "text": [
      "9\n",
      "9\n",
      "9\n"
     ]
    }
   ],
   "source": [
    "#　闭包的常见坑\n",
    "def count():\n",
    "    #　定义列表, 列表里存放的是定义的函数\n",
    "    fs = []\n",
    "    for i in range(1,4):\n",
    "        #　定义了一个函数f\n",
    "        #　f是一个闭包结构\n",
    "        def f():\n",
    "            return i*i\n",
    "        fs.append(f)\n",
    "    return fs\n",
    "\n",
    "f1,f2,f3 = count()\n",
    "print(f1())\n",
    "print(f2())\n",
    "print(f3())"
   ]
  },
  {
   "cell_type": "markdown",
   "metadata": {},
   "source": [
    "### 出现的问题:\n",
    "    - 造成上述状况的原因是,返回函数引用了变量i,　i并非立即执行,而是等到三个函数都返回的时候才统一使用,此时i已经变成了3,最终调用的时候,都返回的是3*3\n",
    "    - 此问题描述成：　返回闭包是,返回函数不能引用任何循环变量\n",
    "    - 解决方案:　在创建一个函数,用该函数的参数绑定循环变量的当前值,无论该循环变量以后如何改变,已经绑定的函数参数值不在改变"
   ]
  },
  {
   "cell_type": "code",
   "execution_count": 17,
   "metadata": {},
   "outputs": [
    {
     "name": "stdout",
     "output_type": "stream",
     "text": [
      "1\n",
      "4\n",
      "9\n"
     ]
    }
   ],
   "source": [
    "#　修改上述函数\n",
    "def count2():\n",
    "    def f(j):\n",
    "        def g():\n",
    "            return j*j\n",
    "        return g\n",
    "    fs = []\n",
    "    for i in range(1,4):\n",
    "        fs.append(f(i))\n",
    "    return fs\n",
    "    \n",
    "f1,f2,f3 = count2()\n",
    "print(f1())\n",
    "print(f2())\n",
    "print(f3())"
   ]
  },
  {
   "cell_type": "markdown",
   "metadata": {},
   "source": [
    "### 装饰器"
   ]
  },
  {
   "cell_type": "code",
   "execution_count": 18,
   "metadata": {},
   "outputs": [
    {
     "name": "stdout",
     "output_type": "stream",
     "text": [
      "Hello world\n"
     ]
    }
   ],
   "source": [
    "def hello():\n",
    "    print(\"Hello world\")\n",
    "hello()"
   ]
  },
  {
   "cell_type": "code",
   "execution_count": 20,
   "metadata": {},
   "outputs": [
    {
     "name": "stdout",
     "output_type": "stream",
     "text": [
      "Hello world\n"
     ]
    }
   ],
   "source": [
    "f = hello\n",
    "f()"
   ]
  },
  {
   "cell_type": "code",
   "execution_count": 22,
   "metadata": {},
   "outputs": [
    {
     "name": "stdout",
     "output_type": "stream",
     "text": [
      "140600459932128\n",
      "140600459932128\n",
      "hello\n",
      "hello\n"
     ]
    }
   ],
   "source": [
    "# f和hello是一个函数\n",
    "print(id(f))\n",
    "print(id(hello))\n",
    "\n",
    "print(hello.__name__)\n",
    "print(f.__name__)"
   ]
  },
  {
   "cell_type": "code",
   "execution_count": 23,
   "metadata": {
    "collapsed": true
   },
   "outputs": [],
   "source": [
    "# 现在有新的需求\n",
    "# 对hello功能进行扩展,每次打印hello之前打印当前系统时间\n",
    "# 而实现这个功能又不能改动现有代码\n",
    "# ==>使用装饰器"
   ]
  },
  {
   "cell_type": "markdown",
   "metadata": {},
   "source": [
    "### 装饰器(Decrator)\n",
    "    - 在不改动函数代码的基础上无限扩展函数功能的一种机制,本质上讲,装饰器是一个返回函数的高阶函数\n",
    "    - 装饰器的使用: 使用@语法,　即在每次需要扩展到函数定义前使用@+函数名"
   ]
  },
  {
   "cell_type": "code",
   "execution_count": 24,
   "metadata": {
    "collapsed": true
   },
   "outputs": [],
   "source": [
    "#　任务:\n",
    "# 对hello函数进行功能扩展,每次执行hello玩打印当前时间\n",
    "import time\n",
    "#　高阶函数,以函数作为参数\n",
    "def printTime(f):\n",
    "    def wrapper(*args, **kwargs):\n",
    "        print(\"Time: \", time.ctime())\n",
    "        return f(*args, **kwargs)\n",
    "    \n",
    "    return wrapper\n"
   ]
  },
  {
   "cell_type": "code",
   "execution_count": 25,
   "metadata": {},
   "outputs": [
    {
     "name": "stdout",
     "output_type": "stream",
     "text": [
      "Time:  Sun Jul 22 14:55:07 2018\n",
      "Hello world\n"
     ]
    }
   ],
   "source": [
    "#　上面定义了装饰器,使用的时候需要用到@,此符号是python的语法糖\n",
    "@printTime\n",
    "def hello():\n",
    "    print(\"Hello world\")\n",
    "    \n",
    "hello()"
   ]
  },
  {
   "cell_type": "code",
   "execution_count": 26,
   "metadata": {},
   "outputs": [
    {
     "name": "stdout",
     "output_type": "stream",
     "text": [
      "Time:  Sun Jul 22 15:01:02 2018\n",
      "今天很高兴,　学会了高级函数\n",
      "后面还有很多要学的,xml, html, css, js, 正则, 爬虫, Django\n"
     ]
    }
   ],
   "source": [
    "#　装饰器的好处是,一点定义,则可以装饰任意函数\n",
    "#　一旦被其装饰,则把装饰器的功能直接添加定义函数的功能上\n",
    "@printTime\n",
    "def hello2():\n",
    "    print(\"今天很高兴,　学会了高级函数\")\n",
    "    print(\"后面还有很多要学的,xml, html, css, js, 正则, 爬虫, Django\")\n",
    "    \n",
    "hello2()"
   ]
  },
  {
   "cell_type": "code",
   "execution_count": 28,
   "metadata": {},
   "outputs": [
    {
     "name": "stdout",
     "output_type": "stream",
     "text": [
      "我是手动的\n",
      "Time:  Sun Jul 22 15:08:01 2018\n",
      "我是手动的\n",
      "Time:  Sun Jul 22 15:08:01 2018\n",
      "Time:  Sun Jul 22 15:08:01 2018\n",
      "我是手动的\n"
     ]
    }
   ],
   "source": [
    "# 上面对函数的装饰使用了系统定义的语法糖\n",
    "#　下面开始手动执行下装饰器\n",
    "# 先定义函数\n",
    "\n",
    "def hello3():\n",
    "    print(\"我是手动的\")\n",
    "    \n",
    "hello3()\n",
    "\n",
    "hello3 = printTime(hello3)\n",
    "\n",
    "hello3()\n",
    "\n",
    "f = printTime(hello3)\n",
    "f()\n",
    "#　作业\n",
    "#　解释下面的执行结果ｏ\n",
    "#　解释: 第一次打印是使用装饰器执行,第二次执行是相当与把函数当做了变量赋值后执行,第三次打印是把装饰器赋值给了一个对象"
   ]
  },
  {
   "cell_type": "markdown",
   "metadata": {},
   "source": [
    "# 偏函数\n",
    "    - 参数固定的函数,相当于有特定参数的函数体\n",
    "    -　functools.partial的作用是,把一个函数某些函数固定,返回一个新函数"
   ]
  },
  {
   "cell_type": "code",
   "execution_count": 30,
   "metadata": {},
   "outputs": [
    {
     "data": {
      "text/plain": [
       "5349"
      ]
     },
     "execution_count": 30,
     "metadata": {},
     "output_type": "execute_result"
    }
   ],
   "source": [
    "#　把字符转化成十进制数字\n",
    "int(\"12345\")\n",
    "\n",
    "#　求八进制的字符串12345,表示十进制的数字是多少\n",
    "int(\"12345\", base=8)"
   ]
  },
  {
   "cell_type": "code",
   "execution_count": 31,
   "metadata": {},
   "outputs": [
    {
     "data": {
      "text/plain": [
       "74565"
      ]
     },
     "execution_count": 31,
     "metadata": {},
     "output_type": "execute_result"
    }
   ],
   "source": [
    "#　新建一个函数,此函数是默认输入的字符串是16进制数字\n",
    "#　把此字符返回十进制的数字\n",
    "def int16(x, base=16):\n",
    "    return int(x, base)\n",
    "\n",
    "int16(\"12345\")"
   ]
  },
  {
   "cell_type": "code",
   "execution_count": 34,
   "metadata": {},
   "outputs": [
    {
     "name": "stdout",
     "output_type": "stream",
     "text": [
      "Help on class partial in module functools:\n",
      "\n",
      "class partial(builtins.object)\n",
      " |  partial(func, *args, **keywords) - new function with partial application\n",
      " |  of the given arguments and keywords.\n",
      " |  \n",
      " |  Methods defined here:\n",
      " |  \n",
      " |  __call__(self, /, *args, **kwargs)\n",
      " |      Call self as a function.\n",
      " |  \n",
      " |  __delattr__(self, name, /)\n",
      " |      Implement delattr(self, name).\n",
      " |  \n",
      " |  __getattribute__(self, name, /)\n",
      " |      Return getattr(self, name).\n",
      " |  \n",
      " |  __new__(*args, **kwargs) from builtins.type\n",
      " |      Create and return a new object.  See help(type) for accurate signature.\n",
      " |  \n",
      " |  __reduce__(...)\n",
      " |      helper for pickle\n",
      " |  \n",
      " |  __repr__(self, /)\n",
      " |      Return repr(self).\n",
      " |  \n",
      " |  __setattr__(self, name, value, /)\n",
      " |      Implement setattr(self, name, value).\n",
      " |  \n",
      " |  __setstate__(...)\n",
      " |  \n",
      " |  ----------------------------------------------------------------------\n",
      " |  Data descriptors defined here:\n",
      " |  \n",
      " |  __dict__\n",
      " |  \n",
      " |  args\n",
      " |      tuple of arguments to future partial calls\n",
      " |  \n",
      " |  func\n",
      " |      function object to use in future partial calls\n",
      " |  \n",
      " |  keywords\n",
      " |      dictionary of keyword arguments to future partial calls\n",
      "\n"
     ]
    }
   ],
   "source": [
    "import functools\n",
    "#　实现上面的int16的功能\n",
    "int16 = functools.partial(int, base=16)\n",
    "int16(\"12345\")\n",
    "help(functools.partial)"
   ]
  },
  {
   "cell_type": "markdown",
   "metadata": {
    "collapsed": true
   },
   "source": [
    "# 补充函数\n",
    "## zip\n",
    "    - 把两个可迭代内容生成一个可迭代tuple元素类型组成的内容"
   ]
  },
  {
   "cell_type": "code",
   "execution_count": 1,
   "metadata": {},
   "outputs": [
    {
     "name": "stdout",
     "output_type": "stream",
     "text": [
      "<class 'zip'>\n",
      "<zip object at 0x7f55fc734f88>\n",
      "(1, 11)\n",
      "(2, 22)\n",
      "(3, 33)\n",
      "(4, 44)\n",
      "(5, 55)\n"
     ]
    }
   ],
   "source": [
    "# zip 案例\n",
    "l1 = [1,2,3,4,5]\n",
    "l2 = [11,22,33,44,55]\n",
    "\n",
    "z = zip(l1, l2)\n",
    "\n",
    "print(type(z))\n",
    "print(z)\n",
    "\n",
    "for i in z:\n",
    "    print(i)"
   ]
  },
  {
   "cell_type": "code",
   "execution_count": 2,
   "metadata": {},
   "outputs": [
    {
     "name": "stdout",
     "output_type": "stream",
     "text": [
      "('wamgwang', 89)\n",
      "(' mingyue', 23)\n",
      "('yyt', 78)\n",
      "[]\n"
     ]
    }
   ],
   "source": [
    "l1 = [\"wamgwang\",\" mingyue\", \"yyt\"]\n",
    "l2 = [89, 23, 78]\n",
    "\n",
    "z = zip(l1, l2)\n",
    "\n",
    "for i in z:\n",
    "    print(i)\n",
    "    \n",
    "#　考虑下面结果,　为什么会为空\n",
    "l3 = [i for i in z]\n",
    "print(l3)"
   ]
  },
  {
   "cell_type": "markdown",
   "metadata": {},
   "source": [
    "## enumerate\n",
    "    - 跟zip功能比较像\n",
    "    - 对可迭代对象里的每一个元素,配上一个索引，然后索引和内容构成tuple类型\n",
    "    "
   ]
  },
  {
   "cell_type": "code",
   "execution_count": 3,
   "metadata": {},
   "outputs": [
    {
     "name": "stdout",
     "output_type": "stream",
     "text": [
      "[(0, 11), (1, 22), (2, 33), (3, 44), (4, 55)]\n"
     ]
    }
   ],
   "source": [
    "# enumerate 案例1\n",
    "l1 = [11,22,33,44,55]\n",
    "\n",
    "em = enumerate(l1)\n",
    "\n",
    "l2 = [i for i in em]\n",
    "print(l2)"
   ]
  },
  {
   "cell_type": "code",
   "execution_count": 4,
   "metadata": {},
   "outputs": [
    {
     "name": "stdout",
     "output_type": "stream",
     "text": [
      "[(100, 11), (101, 22), (102, 33), (103, 44), (104, 55)]\n"
     ]
    }
   ],
   "source": [
    "em = enumerate(l1, start=100)\n",
    "l2 = [i for i in em]\n",
    "print(l2)"
   ]
  },
  {
   "cell_type": "markdown",
   "metadata": {},
   "source": [
    "## collections模块\n",
    "    - namedtuple\n",
    "    - deque\n",
    "### namedtuple\n",
    "    - tuple类型\n",
    "    - 是一个可命名tuple"
   ]
  },
  {
   "cell_type": "code",
   "execution_count": 9,
   "metadata": {},
   "outputs": [
    {
     "name": "stdout",
     "output_type": "stream",
     "text": [
      "22\n",
      "11\n",
      "22\n"
     ]
    }
   ],
   "source": [
    "import collections\n",
    "Point = collections.namedtuple(\"Pouint\", ['x', 'y'])\n",
    "p = Point(11,22)\n",
    "print(p.y)\n",
    "print(p[0])\n",
    "print(p[1])"
   ]
  },
  {
   "cell_type": "code",
   "execution_count": 11,
   "metadata": {},
   "outputs": [
    {
     "name": "stdout",
     "output_type": "stream",
     "text": [
      "Circle(x=100, y=150, z=50)\n",
      "<class '__main__.Circle'>\n"
     ]
    },
    {
     "data": {
      "text/plain": [
       "True"
      ]
     },
     "execution_count": 11,
     "metadata": {},
     "output_type": "execute_result"
    }
   ],
   "source": [
    "Circle = collections.namedtuple(\"Circle\", ['x', 'y', 'z'])\n",
    "\n",
    "c = Circle(100, 150, 50)\n",
    "print(c)\n",
    "print(type(c))\n",
    "#　想检测一下namedtuple到底属于谁的子类\n",
    "isinstance(c, tuple)"
   ]
  },
  {
   "cell_type": "markdown",
   "metadata": {},
   "source": [
    "## dequeue\n",
    "    -比较方便的解决了频繁删除插入带来的效率问题"
   ]
  },
  {
   "cell_type": "code",
   "execution_count": 15,
   "metadata": {},
   "outputs": [
    {
     "name": "stdout",
     "output_type": "stream",
     "text": [
      "deque(['a', 'b', 'c'])\n",
      "deque(['a', 'b', 'c', 'd'])\n",
      "deque(['a', 'b', 'c', 'd', 'x'])\n",
      "deque(['a', 'b', 'd', 'x'])\n"
     ]
    }
   ],
   "source": [
    "from collections import deque\n",
    "q = deque(['a', 'b', 'c'])\n",
    "print(q)\n",
    "\n",
    "q.append('d')\n",
    "print(q)\n",
    "\n",
    "q.append('x')\n",
    "print(q)\n",
    "\n",
    "del q[2]\n",
    "print(q)\n",
    "\n"
   ]
  },
  {
   "cell_type": "markdown",
   "metadata": {},
   "source": [
    "## defaultdict\n",
    "    - 当直接读取dict不存在的属性时,　直接返回默认\n",
    "    "
   ]
  },
  {
   "cell_type": "code",
   "execution_count": 19,
   "metadata": {},
   "outputs": [
    {
     "name": "stdout",
     "output_type": "stream",
     "text": [
      "1\n",
      "3\n"
     ]
    }
   ],
   "source": [
    "d1 = {\"one\": 1, \"two\": 2, \"three\": 3}\n",
    "print(d1['one'])\n",
    "print(d1['three'])"
   ]
  },
  {
   "cell_type": "code",
   "execution_count": 22,
   "metadata": {},
   "outputs": [
    {
     "name": "stdout",
     "output_type": "stream",
     "text": [
      "1\n",
      "刘俊\n"
     ]
    }
   ],
   "source": [
    "from collections import defaultdict\n",
    "#　lambda表达式,直接返回字符串\n",
    "func = lambda: \"刘俊\"\n",
    "d2 = defaultdict(func)\n",
    "\n",
    "d2[\"one\"] = 1\n",
    "d2['two'] = 2\n",
    "print(d2['one'])\n",
    "print(d2['four'])"
   ]
  },
  {
   "cell_type": "markdown",
   "metadata": {},
   "source": [
    "## Counter\n",
    "    - 统计字符串个数"
   ]
  },
  {
   "cell_type": "code",
   "execution_count": 23,
   "metadata": {},
   "outputs": [
    {
     "name": "stdout",
     "output_type": "stream",
     "text": [
      "Counter({'a': 4, 'b': 2, 'c': 2, 'f': 2, 'j': 2, 'l': 2, 's': 2, 'd': 1, 'e': 1, 'g': 1, 'k': 1})\n"
     ]
    }
   ],
   "source": [
    "from collections import Counter\n",
    "#　为什么下面不把abcdefabced---作为键值,而是以其中每一个字母作为键值\n",
    "#　答:　如果没有用引号对进行分隔，则默认为单个字符\n",
    "#　需要括号里内容为可迭代\n",
    "c = Counter(\"abcdefgabcjaklsfjlas\")\n",
    "print(c)"
   ]
  },
  {
   "cell_type": "code",
   "execution_count": 24,
   "metadata": {},
   "outputs": [
    {
     "name": "stdout",
     "output_type": "stream",
     "text": [
      "Counter({'love': 4, 'liudana': 1, 'wangxiaojing': 1})\n"
     ]
    }
   ],
   "source": [
    "s = [\"liudana\", \"love\", \"love\", \"love\", \"love\", \"wangxiaojing\"]\n",
    "c = Counter(s)\n",
    "print(c)"
   ]
  }
 ],
 "metadata": {
  "kernelspec": {
   "display_name": "Python 3",
   "language": "python",
   "name": "python3"
  },
  "language_info": {
   "codemirror_mode": {
    "name": "ipython",
    "version": 3
   },
   "file_extension": ".py",
   "mimetype": "text/x-python",
   "name": "python",
   "nbconvert_exporter": "python",
   "pygments_lexer": "ipython3",
   "version": "3.6.3"
  }
 },
 "nbformat": 4,
 "nbformat_minor": 2
}

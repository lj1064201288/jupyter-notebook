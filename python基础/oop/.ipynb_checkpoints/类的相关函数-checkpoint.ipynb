{
 "cells": [
  {
   "cell_type": "code",
   "execution_count": 13,
   "metadata": {},
   "outputs": [
    {
     "name": "stdout",
     "output_type": "stream",
     "text": [
      "Hai, my name is MINCHI STANGLE\n",
      "Hai, my name is LIUJUN\n"
     ]
    }
   ],
   "source": [
    "# 属性案例\n",
    "# 创建Student类,描述学生类\n",
    "# 学生具有Studnet.name属性\n",
    "# 但name格式并不统一\n",
    "# 可以用增加一个函数,然后自动调用的方式，但很蠢\n",
    "class Student():\n",
    "    def __init__(self, name, age):\n",
    "        self.name = name\n",
    "        self.age = age\n",
    "        \n",
    "        # 如果不想修改代码\n",
    "        self.setName(name)\n",
    "        \n",
    "    # 介绍下自己\n",
    "    def intro(self):\n",
    "        print(\"Hai, my name is {0}\".format(self.name))\n",
    "        \n",
    "    def setName(self,name):\n",
    "        self.name = name.upper()\n",
    "        \n",
    "s1 = Student(\"l\",19.8)\n",
    "s2 = Student(\"minchi stangle\", 24.0)\n",
    "\n",
    "\n",
    "s2.intro()\n",
    "s1.setName(\"liujun\")\n",
    "s1.intro()"
   ]
  },
  {
   "cell_type": "code",
   "execution_count": 32,
   "metadata": {},
   "outputs": [
    {
     "name": "stdout",
     "output_type": "stream",
     "text": [
      "18.5\n"
     ]
    }
   ],
   "source": [
    "# peroperty案例\n",
    "# 定义一个person类,具有name,age属性\n",
    "# 对于任意输入的姓名,我们希望都用大写方式保存\n",
    "# 年龄，我们希望内部统一用整数保存\n",
    "# x = peroperty(fget,fset,fdel,doc)\n",
    "class Person():\n",
    "    '''\n",
    "    这是一个人，一个高尚的人\n",
    "    '''\n",
    "    # 函数的名称可以任意\n",
    "    def fget(self):\n",
    "        return self._name * 2\n",
    "    def fset(self,name):\n",
    "        # 所有输入的姓名以大写形式保存\n",
    "        self._name = name.upper()\n",
    "        \n",
    "    def fdel(self):\n",
    "        self._name = \"NoName\"\n",
    "        \n",
    "    name = property(fget,fset,fdel,\"对name进行以下操作\")\n",
    "#作业:\n",
    "# 1.在用户输入年龄的时候，可以输入整数，小数,浮点数\n",
    "# 2。但内部为了数据清洁，我们统一保存正式，直接舍去小数点\n",
    "name = Person()\n",
    "name.fget = \"18.5\"\n",
    "print(name.fget)"
   ]
  },
  {
   "cell_type": "code",
   "execution_count": 33,
   "metadata": {},
   "outputs": [
    {
     "name": "stdout",
     "output_type": "stream",
     "text": [
      "LIUJUNLIUJUN\n"
     ]
    }
   ],
   "source": [
    "p1 = Person()\n",
    "p1.name = \"Liujun\"\n",
    "print(p1.name)"
   ]
  },
  {
   "cell_type": "code",
   "execution_count": 34,
   "metadata": {},
   "outputs": [
    {
     "name": "stdout",
     "output_type": "stream",
     "text": [
      "{'__module__': '__main__', '__doc__': '\\n    这是一个人，一个高尚的人\\n    ', 'fget': <function Person.fget at 0x7f7251fb9ae8>, 'fset': <function Person.fset at 0x7f7251fb90d0>, 'fdel': <function Person.fdel at 0x7f7251fb9840>, 'name': <property object at 0x7f7251f4cbd8>, '__dict__': <attribute '__dict__' of 'Person' objects>, '__weakref__': <attribute '__weakref__' of 'Person' objects>}\n",
      "\n",
      "    这是一个人，一个高尚的人\n",
      "    \n",
      "Person\n",
      "(<class 'object'>,)\n"
     ]
    }
   ],
   "source": [
    "# 类的内置属性举例\n",
    "print(Person.__dict__)\n",
    "print(Person.__doc__)\n",
    "print(Person.__name__)\n",
    "print(Person.__bases__)"
   ]
  }
 ],
 "metadata": {
  "kernelspec": {
   "display_name": "Python 3",
   "language": "python",
   "name": "python3"
  },
  "language_info": {
   "codemirror_mode": {
    "name": "ipython",
    "version": 3
   },
   "file_extension": ".py",
   "mimetype": "text/x-python",
   "name": "python",
   "nbconvert_exporter": "python",
   "pygments_lexer": "ipython3",
   "version": "3.6.3"
  }
 },
 "nbformat": 4,
 "nbformat_minor": 2
}

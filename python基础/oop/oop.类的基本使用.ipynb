{
 "cells": [
  {
   "cell_type": "code",
   "execution_count": 3,
   "metadata": {},
   "outputs": [],
   "source": [
    "class Student():\n",
    "    name = \"liujun\"\n",
    "    age = 18\n",
    "\n",
    "Student.__dict__\n",
    "\n",
    "#　实例化\n",
    "yueyue = Student()\n",
    "yueyue.__dict__\n",
    "print(yueyue.name)"
   ]
  },
  {
   "cell_type": "code",
   "execution_count": 7,
   "metadata": {},
   "outputs": [
    {
     "name": "stdout",
     "output_type": "stream",
     "text": [
      "liujun\n",
      "18\n",
      "******************************\n",
      "139980306950720\n",
      "94365202874112\n",
      "********************\n",
      "liujun\n",
      "18\n",
      "139980306950720\n",
      "94365202874112\n"
     ]
    }
   ],
   "source": [
    "class A():\n",
    "    name = \"liujun\"\n",
    "    age = 18\n",
    "    #　注意say的写法，参数有一个self\n",
    "    def say(self):\n",
    "        self.name = \"aaaa\"\n",
    "        self.age = 200\n",
    "\n",
    "#　案例说明\n",
    "# 类实例的属性和其对象的实例的属性不在对象的实例属性赋值的前提下\n",
    "# 指向同一个变量\n",
    "# 此时，A称为类实例\n",
    "\n",
    "print(A.name)\n",
    "print(A.age)\n",
    "\n",
    "print(\"*\" * 30)\n",
    "\n",
    "#　id可以鉴别变量是否和另一个变量是同一个变量\n",
    "print(id(A.name))\n",
    "print(id(A.age))\n",
    "print(\"*\" * 20)\n",
    "a = A()\n",
    "\n",
    "print(a.name)\n",
    "print(a.age)\n",
    "print(id(a.name))\n",
    "print(id(a.age))"
   ]
  },
  {
   "cell_type": "code",
   "execution_count": 8,
   "metadata": {},
   "outputs": [
    {
     "name": "stdout",
     "output_type": "stream",
     "text": [
      "liujun\n",
      "18\n",
      "******************************\n",
      "139980306950720\n",
      "94365202874112\n",
      "******************************\n",
      "{'__module__': '__main__', 'name': 'liujun', 'age': 18, 'say': <function A.say at 0x7f4fb466dbf8>, '__dict__': <attribute '__dict__' of 'A' objects>, '__weakref__': <attribute '__weakref__' of 'A' objects>, '__doc__': None}\n",
      "{}\n",
      "{'name': 'yaona', 'age': 16}\n",
      "yaona\n",
      "16\n",
      "139980305088048\n",
      "94365202874048\n"
     ]
    }
   ],
   "source": [
    "# 此时,A称为类实例\n",
    "print(A.name)\n",
    "print(A.age)\n",
    "\n",
    "print(\"*\" * 30)\n",
    "\n",
    "# id可以鉴别一个变量是否和另一个变量是同一个变量\n",
    "print(id(A.name))\n",
    "print(id(A.age))\n",
    "\n",
    "print(\"*\" * 30)\n",
    "a = A()\n",
    "# 查看A内所有的属性\n",
    "print(A.__dict__)\n",
    "print(a.__dict__)\n",
    "\n",
    "a.name = \"yaona\"\n",
    "a.age = 16\n",
    "print(a.__dict__)\n",
    "\n",
    "print(a.name)\n",
    "print(a.age)\n",
    "print(id(a.name))\n",
    "print(id(a.age))"
   ]
  },
  {
   "cell_type": "code",
   "execution_count": 13,
   "metadata": {},
   "outputs": [
    {
     "name": "stdout",
     "output_type": "stream",
     "text": [
      "My name is aaaa\n",
      "My age is 200\n",
      "My name is aaaa\n",
      "My age is 200\n"
     ]
    }
   ],
   "source": [
    "class Student():\n",
    "    name = \"liujun\"\n",
    "    age = 18\n",
    "    \n",
    "    #　注意say的写法,参数由一个self\n",
    "    def say(self):\n",
    "        self.name = \"aaaa\"\n",
    "        self.age = 200\n",
    "        print(\"My name is {0}\".format(self.name))\n",
    "        print(\"My age is {0}\".format(self.age))\n",
    "    def sayAgain(self):\n",
    "        \n",
    "        print(\"My name is {0}\".format(self.name))\n",
    "        print(\"My age is {0}\".format(self.age))\n",
    "        \n",
    "yueyue = Student()\n",
    "yueyue.say()\n",
    "yueyue.sayAgain()"
   ]
  },
  {
   "cell_type": "code",
   "execution_count": 15,
   "metadata": {},
   "outputs": [
    {
     "name": "stdout",
     "output_type": "stream",
     "text": [
      "My name is yaona\n",
      "My age is 19\n",
      "liujun\n",
      "19\n",
      "Hello, nice to see you again\n"
     ]
    }
   ],
   "source": [
    "class Teacher():\n",
    "    name = \"liujun\"\n",
    "    age = 19\n",
    "    \n",
    "    def say(self):\n",
    "        self.name = \"yaona\"\n",
    "        self.age = 17\n",
    "        print(\"My name is {0}\".format(self.name))\n",
    "        #　调用类的成员变量需要用__class__\n",
    "        print(\"My age is {0}\".format(__class__.age))\n",
    "    def sayAgain():\n",
    "        print(__class__.name)\n",
    "        print(__class__.age)\n",
    "        print(\"Hello, nice to see you again\")\n",
    "        \n",
    "t = Teacher()\n",
    "t.say()\n",
    "\n",
    "#　调用绑定类函数使用类名\n",
    "Teacher.sayAgain()"
   ]
  },
  {
   "cell_type": "code",
   "execution_count": 17,
   "metadata": {},
   "outputs": [
    {
     "name": "stdout",
     "output_type": "stream",
     "text": [
      "aaaa\n",
      "200\n",
      "aaaa\n",
      "200\n",
      "liujun\n",
      "18\n",
      "bbbb\n",
      "90\n"
     ]
    }
   ],
   "source": [
    "#　关于self的案例\n",
    "class A():\n",
    "    name = \"liujun\"\n",
    "    age = 18\n",
    "    \n",
    "    def __init__(self):\n",
    "        self.name = \"aaaa\"\n",
    "        self.age = 200\n",
    "        \n",
    "    def say(self):\n",
    "        print(self.name)\n",
    "        print(self.age)\n",
    "        \n",
    "class B():\n",
    "    name = \"bbbb\"\n",
    "    age = 90\n",
    "    \n",
    "a = A()\n",
    "#　此时，系统会默认把a作为第一个参数传入函数\n",
    "a.say()\n",
    "\n",
    "#　此时，self被a替换\n",
    "A.say(a)\n",
    "\n",
    "#　同样可以把A作为参数传入\n",
    "A.say(A)\n",
    "\n",
    "#　此时，传入的是类实例B,因为B具有name和age属性，所以不会报错\n",
    "A.say(B)\n",
    "#　以上代码，利用了鸭子类型"
   ]
  },
  {
   "cell_type": "code",
   "execution_count": 19,
   "metadata": {},
   "outputs": [
    {
     "name": "stdout",
     "output_type": "stream",
     "text": [
      "liujun\n"
     ]
    },
    {
     "ename": "AttributeError",
     "evalue": "'Person' object has no attribute '__age'",
     "output_type": "error",
     "traceback": [
      "\u001b[0;31m---------------------------------------------------------------------------\u001b[0m",
      "\u001b[0;31mAttributeError\u001b[0m                            Traceback (most recent call last)",
      "\u001b[0;32m<ipython-input-19-c32d6dd76976>\u001b[0m in \u001b[0;36m<module>\u001b[0;34m()\u001b[0m\n\u001b[1;32m     10\u001b[0m \u001b[0mprint\u001b[0m\u001b[0;34m(\u001b[0m\u001b[0mp\u001b[0m\u001b[0;34m.\u001b[0m\u001b[0mname\u001b[0m\u001b[0;34m)\u001b[0m\u001b[0;34m\u001b[0m\u001b[0m\n\u001b[1;32m     11\u001b[0m \u001b[0;31m#__age是私有变量\u001b[0m\u001b[0;34m\u001b[0m\u001b[0;34m\u001b[0m\u001b[0m\n\u001b[0;32m---> 12\u001b[0;31m \u001b[0mprint\u001b[0m\u001b[0;34m(\u001b[0m\u001b[0mp\u001b[0m\u001b[0;34m.\u001b[0m\u001b[0m__age\u001b[0m\u001b[0;34m)\u001b[0m\u001b[0;34m\u001b[0m\u001b[0m\n\u001b[0m",
      "\u001b[0;31mAttributeError\u001b[0m: 'Person' object has no attribute '__age'"
     ]
    }
   ],
   "source": [
    "# 私有变量案例\n",
    "class Person():\n",
    "    #　name是共有的成员\n",
    "    name = \"liujun\"\n",
    "    #_age就是私有成员\n",
    "    __age = 18\n",
    "    \n",
    "p = Person()\n",
    "#　name是公有变量\n",
    "print(p.name)\n",
    "#__age是私有变量\n",
    "print(p.__age)"
   ]
  },
  {
   "cell_type": "code",
   "execution_count": 20,
   "metadata": {},
   "outputs": [
    {
     "name": "stdout",
     "output_type": "stream",
     "text": [
      "{'__module__': '__main__', 'name': 'liujun', '_Person__age': 18, '__dict__': <attribute '__dict__' of 'Person' objects>, '__weakref__': <attribute '__weakref__' of 'Person' objects>, '__doc__': None}\n",
      "19\n"
     ]
    }
   ],
   "source": [
    "# name mangling技术\n",
    "print(Person.__dict__)\n",
    "p._Person__age = 19\n",
    "print(p._Person__age)"
   ]
  }
 ],
 "metadata": {
  "kernelspec": {
   "display_name": "Python 3",
   "language": "python",
   "name": "python3"
  },
  "language_info": {
   "codemirror_mode": {
    "name": "ipython",
    "version": 3
   },
   "file_extension": ".py",
   "mimetype": "text/x-python",
   "name": "python",
   "nbconvert_exporter": "python",
   "pygments_lexer": "ipython3",
   "version": "3.6.3"
  }
 },
 "nbformat": 4,
 "nbformat_minor": 2
}

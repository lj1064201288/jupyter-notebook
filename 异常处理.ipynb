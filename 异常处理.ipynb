{
 "cells": [
  {
   "cell_type": "markdown",
   "metadata": {},
   "source": [
    "# 异常\n",
    "    -广义上的错误分为错误和异常\n",
    "    -错误指的是可以人为避免的\n",
    "    -异常是指在语法逻辑正确的前提下，出现的问题\n",
    "    -在python里，异常是一个类，可以处理和使用"
   ]
  },
  {
   "cell_type": "markdown",
   "metadata": {},
   "source": [
    "# 异常的分类\n",
    "    AssertError 断言语句失败\n",
    "    AttributeError 尝试访问位置的对象属性\n",
    "    EOFError 用户输入文件，末尾标志EOF\n",
    "    FloatingPointError 浮点计算错误\n",
    "    GeneratorExit  generator.close()方法被调用的时候\n",
    "    ImportError 模块导入失败的时候\n",
    "    IndexError  索引超出序列的范围\n",
    "    KeyError 字典中查找一个不存在的变量\n",
    "    KeyboardInterrupt 用户输入中断键\n",
    "    MemoryError 内存溢出\n",
    "    NameErrror 尝试访问一个不存在的变量\n",
    "    NotImplementedError 尚未实现的方法\n",
    "    OSError 操作系统产生的异常\n",
    "    OverflowError 数值运算超出最大限制\n",
    "    ReferencError 弱引用试图访问一个已经被垃圾回收机制回收的对象\n",
    "    RuntimeError 一般的运行时错误\n",
    "    StopIteration 迭代器没有更多的值\n",
    "    SyntaxError Python 语法错误\n",
    "    IndentationError 缩进错误\n",
    "    TabError Tab和空格混合使用\n",
    "    SystemError Python编译器系统错误\n",
    "    StstemExit Python编译器进程被关闭\n",
    "    TypeError  不同类型间的无效操作\n",
    "    UnboundLocalError 访问一个未初始化的本地变量\n",
    "    UnicodeError Unicode相关的错误\n",
    "    UnicodeEncodeError Unicode编码的错误\n",
    "    UnicodeDecodeError Unicode解码的错误\n",
    "    UnicodeTranslateError Unicode转换时的错误\n",
    "    ValueError 传入无效的参数\n",
    "    ZeroDivisionError 除数为零"
   ]
  },
  {
   "cell_type": "code",
   "execution_count": 1,
   "metadata": {},
   "outputs": [
    {
     "name": "stdout",
     "output_type": "stream",
     "text": [
      "plz input your bum:1\n",
      "100.0\n"
     ]
    }
   ],
   "source": [
    "l = [1,2,3,4,5,6]\n",
    "# 常常会犯的除零错误\n",
    "try:\n",
    "    num = int(input(\"plz input your bum:\"))\n",
    "    print(100/num)\n",
    "except ZeroDivisionError:\n",
    "    print(\"0不能作为除数\")"
   ]
  },
  {
   "cell_type": "markdown",
   "metadata": {},
   "source": [
    "# 异常处理\n",
    "    -不能保证程序永远正确运行\n",
    "    -但是，必须保证程序在最坏的情况下得到问题被妥善处理\n",
    "    -python得到异常处理模块全部语法为:\n",
    "        \n",
    "            try:\n",
    "                尝试实现某个操作\n",
    "                如果没有出现异常，任务就可以完成\n",
    "                如果出现异常，将异常从当前代码块扔出去尝试解决异常\n",
    "            except 异常类型1：\n",
    "                解决方案1: 用于尝试在此处处理异常的解决问题\n",
    "            except 异常类型2:\n",
    "                解决方案2:用于尝试在此处处理异常解决问题\n",
    "            except (异常类型1, 异常类型2):\n",
    "                解决方案:针对多个异常使用相同的处理方式\n",
    "            except:\n",
    "                解决方案:所有异常的解决方案\n",
    "            else:\n",
    "                如果没有出现任何异常,将会执行此处代码\n",
    "            finally:\n",
    "                有没有异常都要执行的代码\n",
    "      \n",
    "    -流程\n",
    "        1.执行try下面的语句\n",
    "        2.如果出现异常,则在except语句里查找对应异常病进行处理\n",
    "        3.如果没有出现异常,则执行else语句的内容\n",
    "        4.最后,不管是否出现异常，都要执行finally语句\n",
    "    -除except以外,else和finally有没有都可以"
   ]
  },
  {
   "cell_type": "code",
   "execution_count": 1,
   "metadata": {},
   "outputs": [
    {
     "name": "stdout",
     "output_type": "stream",
     "text": [
      "请输入一个数:0\n",
      "0不能作为除数!\n"
     ]
    }
   ],
   "source": [
    "# 简单的异常处理\n",
    "try:\n",
    "    num = int(input(\"请输入一个数:\"))\n",
    "    rst = 100/num\n",
    "    print(\"计算的结果是:{0}\".format(rst))\n",
    "except ZeroDivisionError:\n",
    "    print(\"0不能作为除数!\")\n",
    "    "
   ]
  },
  {
   "cell_type": "code",
   "execution_count": 2,
   "metadata": {},
   "outputs": [
    {
     "name": "stdout",
     "output_type": "stream",
     "text": [
      "请输入一个数字:0\n",
      "0不能作为除数的哦\n",
      "division by zero\n"
     ]
    }
   ],
   "source": [
    "# 简单异常案例\n",
    "# 给出提示信息\n",
    "try:\n",
    "    num = int(input(\"请输入一个数字:\"))\n",
    "    rst = 100/num\n",
    "    print(\"计算的结果是:{0}\".format(rst))\n",
    "# 捕获异常后，把异常实例化，出现信息会在实例里面\n",
    "# 注意一下写法\n",
    "# 以下语句捕获的是ZeroDivisionError异常并实例化实例e\n",
    "except ZeroDivisionError as e:\n",
    "    print(\"0不能作为除数的哦\")\n",
    "    print(e)"
   ]
  },
  {
   "cell_type": "code",
   "execution_count": 12,
   "metadata": {
    "scrolled": true
   },
   "outputs": [
    {
     "name": "stdout",
     "output_type": "stream",
     "text": [
      "请输入一个你想输入的数字:56\n",
      "计算的结果是:1.7857142857142858\n",
      "hahahahaha\n"
     ]
    }
   ],
   "source": [
    "# 简单异常案例\n",
    "# 给出提示信息\n",
    "try:\n",
    "    num = int(input(\"请输入一个你想输入的数字:\"))\n",
    "    rst = 100/num\n",
    "    print(\"计算的结果是:{0}\".format(rst))\n",
    "# 如果是多种error的情况\n",
    "# 需要把越具体的错误，越往前放\n",
    "# 在异常类继承关系中,越是子类异常,越是前放\n",
    "# 越是父类异常，越是后放\n",
    "\n",
    "# 在处理异常的时候,一旦拦截到某一个异常,则不在继续往下查看,直接进行下一个\n",
    "# 代码,既有finally则执行finally语句块,否则就执行下一个大的语句块\n",
    "except ZeroDivisionError as e:\n",
    "    print(\"0不能作为除数\")\n",
    "    print(e)\n",
    "except NameError as e:\n",
    "    print(\"名字错误了\")\n",
    "    print(e)\n",
    "except AttributeError as e:\n",
    "    print(\"好像属性一问题\")\n",
    "    print(e)\n",
    "    \n",
    "# 所有的异常都继承自Exception\n",
    "# 如果写上下面这句话，任何异常都会拦截住\n",
    "# 而且，下面这句话一定是最后一个except\n",
    "except Exception as e:\n",
    "    print(\"不知道是哪里出现了错误\")\n",
    "    print(e)\n",
    "    \n",
    "except ValueError as e:\n",
    "    print(\"NO..........\")\n",
    "    \n",
    "print(\"hahahahaha\")"
   ]
  },
  {
   "cell_type": "markdown",
   "metadata": {},
   "source": [
    "# 用户手动引发异常\n",
    "    - 当某些情况，用户希望自己引发一个异常的时候,可以使用\n",
    "    - raise关键字来引发异常\n",
    "   "
   ]
  },
  {
   "cell_type": "code",
   "execution_count": 16,
   "metadata": {},
   "outputs": [
    {
     "name": "stdout",
     "output_type": "stream",
     "text": [
      "I love wangxiaojing\n",
      "3.142353\n",
      "ValueError\n",
      "我一定会执行的\n"
     ]
    }
   ],
   "source": [
    "# raise案例\n",
    "try:\n",
    "    print(\"I love wangxiaojing\")\n",
    "    print(3.142353)\n",
    "    # 手动引发一个异常\n",
    "    # 注意语法 :raise ErrorClassName\n",
    "    raise ValueError\n",
    "    print(\"还没完\")\n",
    "except NameError as e:\n",
    "    print(\"NameError\")\n",
    "except ValueError as e:\n",
    "    print(\"ValueError\")\n",
    "except Exception as e:\n",
    "    print(\"有异常\")\n",
    "finally:\n",
    "    print(\"我一定会执行的\")"
   ]
  },
  {
   "cell_type": "code",
   "execution_count": 17,
   "metadata": {},
   "outputs": [
    {
     "name": "stdout",
     "output_type": "stream",
     "text": [
      "我爱王晓静\n",
      "3.1233543\n",
      "ValueError\n",
      "我一定会被执行的\n"
     ]
    }
   ],
   "source": [
    "# raise案例2\n",
    "# 自己定义异常\n",
    "# 需要注意:自定义异常必须是系统异常的子类\n",
    "class DanaValueError(ValueError):\n",
    "    pass\n",
    "\n",
    "try:\n",
    "    print(\"我爱王晓静\")\n",
    "    print(3.1233543)\n",
    "    # 手动引发一个异常\n",
    "    # 注意语法: raise ErrorClassName\n",
    "    raise DanaValueError\n",
    "    print(\"还没完\")\n",
    "except NameError as e:\n",
    "    print(\"NameError\")\n",
    "except ValueError as e:\n",
    "    print(\"ValueError\")\n",
    "except Exception as e:\n",
    "    print(\"有异常\")\n",
    "finally:\n",
    "    print(\"我一定会被执行的\")"
   ]
  },
  {
   "cell_type": "code",
   "execution_count": 19,
   "metadata": {},
   "outputs": [
    {
     "name": "stdout",
     "output_type": "stream",
     "text": [
      "请输入一个数字:4\n",
      "计算结果是:25.0\n",
      "No Exception\n",
      "我一定会被执行的\n"
     ]
    }
   ],
   "source": [
    "# else语句案例\n",
    "try:\n",
    "    num = int(input('请输入一个数字:'))\n",
    "    rst = 100/num\n",
    "    print(\"计算结果是:{0}\".format(rst))\n",
    "except Exception as e:\n",
    "    print(\"Exception\")\n",
    "else:\n",
    "    print(\"No Exception\")\n",
    "    \n",
    "finally:\n",
    "    print(\"我一定会被执行的\")"
   ]
  },
  {
   "cell_type": "markdown",
   "metadata": {},
   "source": [
    "# 关于自定义异常\n",
    "    -只要是raise异常,则推荐自定义异常\n",
    "    -在自定义异常的时候，一般包含一下内容\n",
    "        -自定义发生异常的异常代码\n",
    "        -自定义发生异常后的问题提示\n",
    "        -自定义发生异常的行数\n",
    "     -最终的目的是，一旦发生异常,方便程序员快速定位错误现场\n",
    "     "
   ]
  }
 ],
 "metadata": {
  "kernelspec": {
   "display_name": "Python 3",
   "language": "python",
   "name": "python3"
  },
  "language_info": {
   "codemirror_mode": {
    "name": "ipython",
    "version": 3
   },
   "file_extension": ".py",
   "mimetype": "text/x-python",
   "name": "python",
   "nbconvert_exporter": "python",
   "pygments_lexer": "ipython3",
   "version": "3.6.3"
  }
 },
 "nbformat": 4,
 "nbformat_minor": 2
}

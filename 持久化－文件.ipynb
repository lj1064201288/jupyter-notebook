{
 "cells": [
  {
   "cell_type": "markdown",
   "metadata": {},
   "source": [
    "# 文件　\n",
    "- 长久保存信息的一种数据信息集合\n",
    "- 常用操作\n",
    "    - 打开关闭(文件一旦打开，需要关闭操作)\n",
    "    - 读写内容\n",
    "    - 查找# open函数\n",
    "- open函数负责打开文件,带有很多函数\n",
    "- 第一个参数:　必须有, 文件的路径和名称\n",
    "- mode: 表明文件用什么方式打开\n",
    "    - r : 以只读方式打开\n",
    "    - w : 写方式打开，会覆盖以前的内容\n",
    "    - x : 创建方式打开,如文件已经存在,报错\n",
    "    - a : append方式,以追加的方式对文件内容进行写入\n",
    "    - b : binary方式,二进制方式写入\n",
    "    - t : 文本方式打开\n",
    "    - +: 可读写"
   ]
  },
  {
   "cell_type": "code",
   "execution_count": 2,
   "metadata": {
    "collapsed": true
   },
   "outputs": [],
   "source": [
    "# 打开文件,用写的方式\n",
    "# r表示后面是字符串内容不需要转义\n",
    "# f称之为文件句柄\n",
    "f = open(r\"test01,txt\",'w')\n",
    "#　文件打开后必须关闭\n",
    "f.close()\n",
    "#　此案例说明,以写方式打开文件，默认是如果没有文件，则创建"
   ]
  },
  {
   "cell_type": "markdown",
   "metadata": {},
   "source": [
    "## with 语句\n",
    "- with语句使用的技术是一种称为上下文管理协议的技术(ContexManagementProtocal)\n",
    "- 自动判断文件的作用域,自动关闭不在使用的打开的文件句柄"
   ]
  },
  {
   "cell_type": "code",
   "execution_count": 4,
   "metadata": {
    "collapsed": true
   },
   "outputs": [],
   "source": [
    "# with 语句案例\n",
    "with open(r\"text01.txt\", 'r') as f:\n",
    "    pass\n",
    "#　下面语句开始对文件f进行操作\n",
    "#　在本模块中不需要在使用close关闭文件f"
   ]
  },
  {
   "cell_type": "code",
   "execution_count": 8,
   "metadata": {},
   "outputs": [
    {
     "name": "stdout",
     "output_type": "stream",
     "text": [
      "zdcgfdhfjghdfxcvopsiopqwrusodi\n",
      "\n",
      "sdfhfg,k;sdkl;fs\n",
      "\n",
      "dfghfhdfgdbf\n",
      "\n",
      "sdfhdf\n",
      "\n"
     ]
    }
   ],
   "source": [
    "# with案例\n",
    "with open(r\"test01.txt\", 'r') as f:\n",
    "    #　按行读取内容\n",
    "    strline = f.readline()\n",
    "    #　次结构保证能够完整读取文件直到结束\n",
    "    while strline:\n",
    "        print(strline)\n",
    "        strline = f.readline()"
   ]
  },
  {
   "cell_type": "code",
   "execution_count": 9,
   "metadata": {},
   "outputs": [
    {
     "name": "stdout",
     "output_type": "stream",
     "text": [
      "zdcgfdhfjghdfxcvopsiopqwrusodi\n",
      "\n",
      "sdfhfg,k;sdkl;fs\n",
      "\n",
      "dfghfhdfgdbf\n",
      "\n",
      "sdfhdf\n",
      "\n"
     ]
    }
   ],
   "source": [
    "with open(r\"test01.txt\", 'r') as f:\n",
    "    #　以打开的文件f作为参数,创建列表\n",
    "    l = list(f)\n",
    "    for line in l:\n",
    "        print(line)"
   ]
  },
  {
   "cell_type": "code",
   "execution_count": 19,
   "metadata": {},
   "outputs": [
    {
     "name": "stdout",
     "output_type": "stream",
     "text": [
      "68\n",
      "zdcgfdhfjghdfxcvopsiopqwrusodi\n",
      "sdfhfg,k;sdkl;fs\n",
      "dfghfhdfgdbf\n",
      "sdfhdf\n",
      "\n",
      "zdcgfdhfjghdfxcvopsiopqwrusodi\n",
      "sdfhfg,k;sdkl;fs\n",
      "dfghfhdfgdbf\n",
      "sdfhdf\n",
      "Help on built-in function read:\n",
      "\n",
      "read(size=-1, /) method of _io.TextIOWrapper instance\n",
      "    Read at most n characters from stream.\n",
      "    \n",
      "    Read from underlying buffer until we have n characters or we hit EOF.\n",
      "    If n is negative or omitted, read until EOF.\n",
      "\n"
     ]
    }
   ],
   "source": [
    "with open(r\"test01.txt\", \"r\") as f:\n",
    "    strChar = f.read()\n",
    "    print(len(strChar))\n",
    "    print(strChar)\n",
    "\n",
    "# 作业\n",
    "#　使用read读取文件,每次读取一个.使用循环读完\n",
    "# 尽量保持格式\n",
    "for i in strChar:\n",
    "    print(i, end=\"\")\n",
    "    \n",
    "help(f.read)"
   ]
  },
  {
   "cell_type": "markdown",
   "metadata": {},
   "source": [
    "## seek (offset, from)\n",
    "- 移动文件读取位置,也叫读取指针\n",
    "- from的取值范围:\n",
    "    - 0: 从文件头开始偏移\n",
    "    - 1: 从文件当前位置开始偏移\n",
    "    - 2: 从文件末尾开始偏移\n",
    "- 移动的单位是字节(byte)\n",
    "- 一个汉字由若干个字节构成\n",
    "- 返回文件只针对 当前位置"
   ]
  },
  {
   "cell_type": "code",
   "execution_count": 4,
   "metadata": {},
   "outputs": [
    {
     "name": "stdout",
     "output_type": "stream",
     "text": [
      "初，性本善。\n",
      "性相近，习相远。\n",
      "苟不教,性乃迁。\n",
      "教之道，贵以专。\n",
      "昔孟母，择邻处。\n",
      "子不学，断机杼。\n",
      "窦燕山，有义方。\n",
      "教五子，名俱扬。\n",
      "养不教，父之过。\n",
      "教不严，师之惰。\n",
      "子不学，非所宜。\n",
      "幼不学，老何为。\n",
      "玉不琢，不成器。\n",
      "人不学，不知义。\n",
      "为人子，方少时。\n",
      "亲师友，习礼仪。\n"
     ]
    }
   ],
   "source": [
    "# seek案例\n",
    "# 打开文件后,从第5个字节出开始读取\n",
    "\n",
    "# 打开读写指针在0处,　及文件开头\n",
    "with open(r\"text01.txt\", 'r') as f:\n",
    "    # seek移动单位是字节\n",
    "    f.seek(6,0)\n",
    "    strChar = f.read()\n",
    "    print(strChar)"
   ]
  },
  {
   "cell_type": "code",
   "execution_count": 6,
   "metadata": {},
   "outputs": [
    {
     "name": "stdout",
     "output_type": "stream",
     "text": [
      "人之初\n",
      "，性本\n",
      "善。\n",
      "\n",
      "性相近\n",
      "，习相\n",
      "远。\n",
      "\n",
      "苟不教\n",
      ",性乃\n",
      "迁。\n",
      "\n",
      "教之道\n",
      "，贵以\n",
      "专。\n",
      "\n",
      "昔孟母\n",
      "，择邻\n",
      "处。\n",
      "\n",
      "子不学\n",
      "，断机\n",
      "杼。\n",
      "\n",
      "窦燕山\n",
      "，有义\n",
      "方。\n",
      "\n",
      "教五子\n",
      "，名俱\n",
      "扬。\n",
      "\n",
      "养不教\n",
      "，父之\n",
      "过。\n",
      "\n",
      "教不严\n",
      "，师之\n",
      "惰。\n",
      "\n",
      "子不学\n",
      "，非所\n",
      "宜。\n",
      "\n",
      "幼不学\n",
      "，老何\n",
      "为。\n",
      "\n",
      "玉不琢\n",
      "，不成\n",
      "器。\n",
      "\n",
      "人不学\n",
      "，不知\n",
      "义。\n",
      "\n",
      "为人子\n",
      "，方少\n",
      "时。\n",
      "\n",
      "亲师友\n",
      "，习礼\n",
      "仪。\n"
     ]
    }
   ],
   "source": [
    "# 关于读取文件的练习\n",
    "# 打开文件,三个字符一组读出内容,然后显示在屏幕上\n",
    "# 每读一次,　休息一秒钟\n",
    "# 让程序暂停,　可以使用time模块下的sleep函数\n",
    "import time\n",
    "with open(r\"text01.txt\", 'r') as f:\n",
    "    # read参数的单位是字符,可以理解成一个汉字,就是一个字符\n",
    "    strChar = f.read(3)\n",
    "    while strChar:\n",
    "        print(strChar)\n",
    "        # sleep参数单位是秒\n",
    "        time.sleep(1)\n",
    "        strChar = f.read(3)\n",
    "        \n",
    "# 作业:\n",
    "# 解释以下运行结果,为什么不是每行三个字符\n",
    "# 答：上面一说:每个汉字是由若干个字节组成"
   ]
  },
  {
   "cell_type": "code",
   "execution_count": 6,
   "metadata": {},
   "outputs": [
    {
     "name": "stdout",
     "output_type": "stream",
     "text": [
      "43\n",
      "人之初，性本善。\n",
      "性相近，习相\n",
      "82\n",
      "远。\n",
      "苟不教,性乃迁。\n",
      "教之道\n",
      "123\n",
      "，贵以专。\n",
      "昔孟母，择邻处。\n",
      "\n",
      "166\n",
      "子不学，断机杼。\n",
      "窦燕山，有义\n",
      "207\n",
      "方。\n",
      "教五子，名俱扬。\n",
      "养不教\n",
      "248\n",
      "，父之过。\n",
      "教不严，师之惰。\n",
      "\n",
      "291\n",
      "子不学，非所宜。\n",
      "幼不学，老何\n",
      "332\n",
      "为。\n",
      "玉不琢，不成器。\n",
      "人不学\n",
      "373\n",
      "，不知义。\n",
      "为人子，方少时。\n",
      "\n",
      "418\n",
      "亲师友，习礼仪。生活不仅由眼前\n",
      "461\n",
      "的苟且，　\n",
      "　还有远方的苟且生\n",
      "504\n",
      "活不仅由眼前的苟且，　\n",
      "　还有\n",
      "519\n",
      "远方的苟且\n"
     ]
    }
   ],
   "source": [
    "# tell函数:　用来显示文件读写指针的当前位置 \n",
    "import time\n",
    "with open(r\"text01.txt\",'r') as f:\n",
    "    strChar = f.read(15)\n",
    "    pos = f.tell()\n",
    "    \n",
    "    while strChar:\n",
    "        print(pos)\n",
    "        print(strChar)\n",
    "        time.sleep(1)\n",
    "        \n",
    "        strChar = f.read(15)\n",
    "        pos = f.tell()\n",
    "        \n",
    "# 以下结果说明:\n",
    "# tell的返回数字的单位是byte\n",
    "# read是以字符为单位"
   ]
  },
  {
   "cell_type": "markdown",
   "metadata": {},
   "source": [
    "# 文件的写操作-write\n",
    "- write(str): 把字符串写入文件\n",
    "- writeline(str): 把字符串按行写入文件\n",
    "- 区别:\n",
    "    - write函数参数只能是字符串\n",
    "    - writeline蚕食可以是字符串，也可以是字符序列"
   ]
  },
  {
   "cell_type": "code",
   "execution_count": 5,
   "metadata": {
    "collapsed": true
   },
   "outputs": [],
   "source": [
    "# write案例\n",
    "# 1.向文件追加一句诗\n",
    "\n",
    "# a　代表追加方式打开\n",
    "with open (r\"text01.txt\", 'a') as f:\n",
    "    # 注意字符串内含有换行符\n",
    "    f.write(\"生活不仅由眼前的苟且，　\\n　还有远方的苟且\")"
   ]
  },
  {
   "cell_type": "code",
   "execution_count": 7,
   "metadata": {
    "collapsed": true
   },
   "outputs": [],
   "source": [
    "# 可以直接写入行,用weiteliens\n",
    "# wtitelines表示写入很多行,　参数可以是list格式\n",
    "# a代表追加方式打开\n",
    "with open(r\"text01.txt\", 'a')  as f:\n",
    "    #　注意字符串内的格式\n",
    "    f.writelines(\"香九龄，能温席。\")\n",
    "    f.writelines(\"孝与亲，所当值。\")\n",
    "    f.writelines(\"融四岁,能让梨。\")\n",
    "    f.writelines(\"弟于长，于先知。\")"
   ]
  },
  {
   "cell_type": "code",
   "execution_count": 9,
   "metadata": {},
   "outputs": [],
   "source": [
    "l = [\"I\", \"love\", \"wangxiaojing\"]\n",
    "# a 代表表最佳方式打开\n",
    "with open(r\"text01.txt\", 'w') as f:\n",
    "    f.writelines(l)"
   ]
  },
  {
   "cell_type": "code",
   "execution_count": 11,
   "metadata": {},
   "outputs": [
    {
     "name": "stdout",
     "output_type": "stream",
     "text": [
      "Ilovewangxiaojing\n"
     ]
    }
   ],
   "source": [
    "with open(r\"text01.txt\", 'r') as f:\n",
    "    r = f.read()\n",
    "    print(r)"
   ]
  },
  {
   "cell_type": "markdown",
   "metadata": {},
   "source": [
    "## 持久化-pickle\n",
    "- 序列化（持久化，落地）: 把程序运行中的信息保存在磁盘上\n",
    "- 反序列化:　序列号的逆过程\n",
    "- pickle:python提供的序列模块\n",
    "- pickle.dump:序列化\n",
    "- pickle.load:　反序列化"
   ]
  },
  {
   "cell_type": "code",
   "execution_count": 13,
   "metadata": {},
   "outputs": [],
   "source": [
    "# 序列化案例\n",
    "import pickle\n",
    "\n",
    "age = 19\n",
    "with open(r\"text01.txt\", \"wb\") as f:\n",
    "    pickle.dump(age, f)\n",
    "    "
   ]
  },
  {
   "cell_type": "code",
   "execution_count": 16,
   "metadata": {},
   "outputs": [
    {
     "name": "stdout",
     "output_type": "stream",
     "text": [
      "19\n"
     ]
    }
   ],
   "source": [
    "# 反序列化\n",
    "import pickle\n",
    "with open(r\"text01.txt\", \"rb\") as f:\n",
    "    age = pickle.load(f)\n",
    "    print(age)"
   ]
  },
  {
   "cell_type": "code",
   "execution_count": 17,
   "metadata": {
    "collapsed": true
   },
   "outputs": [],
   "source": [
    "# 序列化案例\n",
    "import pickle\n",
    "\n",
    "a = [19,'liujun', 'i love wangxiaojing', [123,34575]]\n",
    "\n",
    "with open(r\"text01.txt\", 'wb') as f:\n",
    "    pickle.dump(a, f)"
   ]
  },
  {
   "cell_type": "code",
   "execution_count": 18,
   "metadata": {},
   "outputs": [
    {
     "name": "stdout",
     "output_type": "stream",
     "text": [
      "[19, 'liujun', 'i love wangxiaojing', [123, 34575]]\n"
     ]
    }
   ],
   "source": [
    "with open(r\"text01.txt\", 'rb') as f:\n",
    "    a = pickle.load(f)\n",
    "    print(a)"
   ]
  },
  {
   "cell_type": "markdown",
   "metadata": {},
   "source": [
    "## 持久化-shelve\n",
    "- 持久化工具\n",
    "- 类似字典,用kv保存数据,　存取方式个跟字典也类似\n",
    "- open, close"
   ]
  },
  {
   "cell_type": "code",
   "execution_count": 25,
   "metadata": {},
   "outputs": [],
   "source": [
    "# 使用shelve创建文件并使用\n",
    "\n",
    "import shelve\n",
    "# 打开文件\n",
    "# shv相当于一个字典\n",
    "shv = shelve.open(r\"sha.db\")\n",
    "\n",
    "shv['one'] = 1\n",
    "shv['two'] = 2\n",
    "shv['three'] = 3\n",
    "\n",
    "shv.close()\n",
    "\n",
    "#　通过以上案例返现,shelve自动创建的不仅仅是一个shv.db文件,还包括其他格式文件"
   ]
  },
  {
   "cell_type": "code",
   "execution_count": 27,
   "metadata": {},
   "outputs": [
    {
     "name": "stdout",
     "output_type": "stream",
     "text": [
      "1\n",
      "3\n"
     ]
    }
   ],
   "source": [
    "# shelve读取案例\n",
    "shv = shelve.open(r\"sha.db\")\n",
    "\n",
    "try:\n",
    "    print(shv['one'])\n",
    "    print(shv['three'])\n",
    "    \n",
    "except Exception as e:\n",
    "    print(\"出错了\")\n",
    "    \n",
    "finally:\n",
    "    shv.close()"
   ]
  },
  {
   "cell_type": "markdown",
   "metadata": {},
   "source": [
    "## shelve特性\n",
    "- 不支持多个应用并行写入\n",
    "    - 为了解决这个问题，open的时候可以使用flag = r\n",
    "- 写入问题\n",
    "    - shelve任何情况下不会等待持久化对象进行任何修改\n",
    "    - 解决方法:　强制写会:writeback = True"
   ]
  },
  {
   "cell_type": "code",
   "execution_count": 29,
   "metadata": {},
   "outputs": [
    {
     "name": "stdout",
     "output_type": "stream",
     "text": [
      "1\n"
     ]
    }
   ],
   "source": [
    "# shelve 只读打开\n",
    "import shelve\n",
    "shv = shelve.open(r\"sha.db\", flag='r')\n",
    "\n",
    "try:\n",
    "    k1 = shv['one']\n",
    "    print(k1)\n",
    "    \n",
    "finally:\n",
    "    shv.close()"
   ]
  },
  {
   "cell_type": "code",
   "execution_count": 30,
   "metadata": {},
   "outputs": [
    {
     "name": "stdout",
     "output_type": "stream",
     "text": [
      "{'eins': 1, 'zwei': 2, 'drei': 3}\n"
     ]
    }
   ],
   "source": [
    "import shelve\n",
    "\n",
    "shv = shelve.open(r\"sha.db\")\n",
    "try:\n",
    "    shv['one'] = {\"eins\":1, \"zwei\":2, \"drei\": 3}\n",
    "finally:\n",
    "    shv.close()\n",
    "    \n",
    "    \n",
    "shv = shelve.open(r\"sha.db\")\n",
    "try:\n",
    "    k1 = shv['one']\n",
    "    print(k1)\n",
    "    \n",
    "finally:\n",
    "    shv.close()"
   ]
  },
  {
   "cell_type": "code",
   "execution_count": 34,
   "metadata": {},
   "outputs": [
    {
     "name": "stdout",
     "output_type": "stream",
     "text": [
      "{'eins': 1, 'zwei': 2, 'drei': 3}\n",
      "{'eins': 1, 'zwei': 2, 'drei': 3}\n"
     ]
    }
   ],
   "source": [
    "# shelve忘记写会,需要使用强制写会\n",
    "shv = shelve.open(r\"sha.db\")\n",
    "\n",
    "try:\n",
    "    k1 = shv['one']\n",
    "    print(k1)\n",
    "    # 此时,一旦shelve关闭,则内容还是存在与内存中，没有写回数据库\n",
    "    k1[\"eins\"] = 100\n",
    "finally:\n",
    "    shv.close()\n",
    "    \n",
    "shv = shelve.open(r\"sha.db\")\n",
    "\n",
    "try:\n",
    "    k1 = shv['one']\n",
    "    print(k1)\n",
    "    \n",
    "finally:\n",
    "    shv.close()"
   ]
  },
  {
   "cell_type": "code",
   "execution_count": 36,
   "metadata": {},
   "outputs": [
    {
     "name": "stdout",
     "output_type": "stream",
     "text": [
      "{'eins': 1, 'zwei': 2, 'drei': 3}\n",
      "{'eins': 100, 'zwei': 2, 'drei': 3}\n"
     ]
    }
   ],
   "source": [
    "# shelve忘记写回,需要使用强制写回\n",
    "shv = shelve.open(r\"sha.db\", writeback=True)\n",
    "\n",
    "try:\n",
    "    k1 = shv['one']\n",
    "    print(k1)\n",
    "    # 此时,一旦shelve关闭,则内容还是存在与内存中,没有写回数据库\n",
    "    k1['eins'] = 100\n",
    "finally:\n",
    "    shv.close()\n",
    "    \n",
    "shv = shelve.open(r\"sha.db\")\n",
    "try:\n",
    "    k1 = shv['one']\n",
    "    print(k1)\n",
    "\n",
    "finally:\n",
    "    shv.close()"
   ]
  },
  {
   "cell_type": "code",
   "execution_count": 38,
   "metadata": {},
   "outputs": [
    {
     "name": "stdout",
     "output_type": "stream",
     "text": [
      "{'eins': 1000, 'zwei': 2, 'drei': 3}\n",
      "{'eins': 1000, 'zwei': 2, 'drei': 3}\n"
     ]
    }
   ],
   "source": [
    "# shelve使用with管理上下文环境\n",
    "with shelve.open(r\"sha.db\", writeback=True) as shv:\n",
    "    k1 = shv['one']\n",
    "    print(k1)\n",
    "    #　此时,一旦shelve关闭,则内容还是存在与内存中,没有写回数据库\n",
    "    k1['eins'] = 1000\n",
    "    \n",
    "with shelve.open(r'sha.db') as shv:\n",
    "    print(shv['one'])"
   ]
  },
  {
   "cell_type": "code",
   "execution_count": null,
   "metadata": {
    "collapsed": true
   },
   "outputs": [],
   "source": []
  },
  {
   "cell_type": "code",
   "execution_count": null,
   "metadata": {
    "collapsed": true
   },
   "outputs": [],
   "source": []
  },
  {
   "cell_type": "code",
   "execution_count": null,
   "metadata": {
    "collapsed": true
   },
   "outputs": [],
   "source": []
  }
 ],
 "metadata": {
  "kernelspec": {
   "display_name": "Python 3",
   "language": "python",
   "name": "python3"
  },
  "language_info": {
   "codemirror_mode": {
    "name": "ipython",
    "version": 3
   },
   "file_extension": ".py",
   "mimetype": "text/x-python",
   "name": "python",
   "nbconvert_exporter": "python",
   "pygments_lexer": "ipython3",
   "version": "3.6.3"
  }
 },
 "nbformat": 4,
 "nbformat_minor": 2
}

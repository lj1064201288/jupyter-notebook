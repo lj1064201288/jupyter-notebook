{
 "cells": [
  {
   "cell_type": "code",
   "execution_count": 6,
   "metadata": {},
   "outputs": [
    {
     "name": "stdout",
     "output_type": "stream",
     "text": [
      "liujun\n",
      "22\n",
      "What am i doing?\n"
     ]
    }
   ],
   "source": [
    "#创建一个空类\n",
    "class Student():\n",
    "    pass\n",
    "mingyue = Student()\n",
    "\n",
    "class PythonStudent():\n",
    "    name = None\n",
    "    age = 0\n",
    "    course = 'Python'\n",
    "    \n",
    "    def dohomework(selt):\n",
    "        print(\"What am i doing?\")\n",
    "        return None\n",
    "    \n",
    "yueyue = PythonStudent()\n",
    "yueyue.name = 'liujun'\n",
    "yueyue.age = 22\n",
    "\n",
    "print(yueyue.name)\n",
    "print(yueyue.age)\n",
    "yueyue.dohomework()\n"
   ]
  }
 ],
 "metadata": {
  "kernelspec": {
   "display_name": "Python 3",
   "language": "python",
   "name": "python3"
  },
  "language_info": {
   "codemirror_mode": {
    "name": "ipython",
    "version": 3
   },
   "file_extension": ".py",
   "mimetype": "text/x-python",
   "name": "python",
   "nbconvert_exporter": "python",
   "pygments_lexer": "ipython3",
   "version": "3.6.3"
  }
 },
 "nbformat": 4,
 "nbformat_minor": 2
}
